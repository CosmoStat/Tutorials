{
 "cells": [
  {
   "cell_type": "markdown",
   "metadata": {},
   "source": [
    "# Introduction to Sparsity I\n",
    "\n",
    "---\n",
    "\n",
    "> Author: <font color='#f78c40'>Samuel Farrens</font>    \n",
    "> Year: 2018  \n",
    "> Email: [samuel.farrens@cea.fr](mailto:samuel.farrens@cea.fr)  \n",
    "> Website: <a href=\"https://sfarrens.github.io\" target=\"_blank\">https://sfarrens.github.io</a>\n",
    "\n",
    "---\n",
    "\n",
    "\n",
    "## Contents\n",
    "\n",
    "1. [Set-Up](#Set-Up)\n",
    "1. [Introduction](#Introduction)\n",
    " * [Objective](#Objective)\n",
    " * [Sparsity Definition](#Sparsity-Definition)\n",
    "1. [Time-Frequency Example](#Time-Frequency-Example)\n",
    " * [Signal](#Signal)\n",
    " * [Discrete Fourier Transform](#Discrete-Fourier-Transform)\n",
    " * [Fast Fourier Transform](#Fast-Fourier-Transform)\n",
    "1. [Sparsity](#Sparsity)\n",
    " * [Sparse Representation](#Sparse-Representation)\n",
    " * [Measures of Sparsity](#Measures-of-Sparsity)\n",
    " * [Promoting Sparsity](#Promoting-Sparsity)\n",
    " * [Median Absolute Deviation](#Median-Absolute-Deviation)\n",
    " * [Sparse Regularisation](#Sparse-Regularisation)\n",
    "1. [Denoising Example](#Denoising-Example)\n",
    " * [Choose Sparse Representation](#Choose-Sparse-Representation)\n",
    " * [Denoising](#Denoising)\n",
    " * [Residual](#Residual)\n",
    "1. [Hints](#Hints)"
   ]
  },
  {
   "cell_type": "markdown",
   "metadata": {},
   "source": [
    "---\n",
    "\n",
    "## Set-Up\n",
    "\n",
    "Here we will import a couple of packages that will be needed throughout the notebook. \n",
    "\n",
    "Users new to Jupyter notebooks should note that cells are executed by pressing <kbd>SHIFT</kbd>+<kbd>ENTER</kbd> (&#x21E7;+ &#x23ce;). See <a href=\"https://jupyter-notebook.readthedocs.io/en/stable/\" target_=\"blanck\">here</a> for more details."
   ]
  },
  {
   "cell_type": "code",
   "execution_count": null,
   "metadata": {
    "scrolled": true
   },
   "outputs": [],
   "source": [
    "# Tell Jupyter to display plots in this notebook.\n",
    "%matplotlib inline\n",
    "\n",
    "# Import the numpy package with the alias np.\n",
    "import numpy as np\n",
    "\n",
    "# Import function to set size of figures.\n",
    "from matplotlib.pylab import rcParams\n",
    "\n",
    "# Import interaction module.\n",
    "from ipywidgets.widgets import *\n",
    "\n",
    "# Import tutorial plotting functions.\n",
    "from sparsity_tutorial import plot"
   ]
  },
  {
   "cell_type": "code",
   "execution_count": null,
   "metadata": {},
   "outputs": [],
   "source": [
    "# For Python 2 users only\n",
    "# Uncomment the following commands\n",
    "\n",
    "# Import Python 3 behaviour\n",
    "# from __future__ import print_function"
   ]
  },
  {
   "cell_type": "code",
   "execution_count": null,
   "metadata": {},
   "outputs": [],
   "source": [
    "# Set size of figures.\n",
    "rcParams['figure.figsize'] = (14.0, 8.0)"
   ]
  },
  {
   "cell_type": "markdown",
   "metadata": {},
   "source": [
    "---\n",
    "\n",
    "## Introduction\n",
    "\n",
    "### <font color='blue'>Objective</font>\n",
    "\n",
    "The objective of this notebook is to introduce the concept of sparsity, particularly in the context of solving inverse problems. To that end, the following examples focus on providing some basic practical applications of the tools and techniques used in sparse analysis. This tutorial does not provide all of mathematical background and readers are encouraged to refer to the following resources for more in-depth explanations.\n",
    "\n",
    "* <a href=\"http://www.cambridge.org/us/academic/subjects/computer-science/computer-graphics-image-processing-and-robotics/sparse-image-and-signal-processing-wavelets-and-related-geometric-multiscale-analysis-2nd-edition?format=HB&isbn=9781107088061#3G4HZKumhWjJLe2A.97\" target_=\"blank\">Sparse Image and Signal Processing (2015)</a>\n",
    "\n",
    "### <font color='blue'>Sparsity Definition</font>\n",
    "\n",
    "A sparse signal is one that is comprised mostly of zeros when expressed in the appropriate basis, in other words the only a few coefficients are required to represent the entire signal. This is an inherent propery of the signal that can be expolited to great effect.\n",
    "\n",
    "A signal $x\\in\\mathbb{R}^N$, *i.e.* a discrete signal with $N$ coefficients $x_i$, is exactly $k$-sparse if only $k$ of its coefficients are non-zero. In practice, however, one generally deals with approximately sparse signals in which the majority of the coefficients are very small with respect to those that carry the majority of the information. Additionally, some signals that are not naturally sparse can be \"sparsified\" with an appropriate transform basis.\n",
    "\n",
    "### <font color='green'>Notes</font>\n",
    "\n",
    "By default the term signal will be used to refer to discrete signals."
   ]
  },
  {
   "cell_type": "markdown",
   "metadata": {},
   "source": [
    "---\n",
    "\n",
    "## Time-Frequency Example\n",
    "\n",
    "### <font color='blue'>Signal</font>\n",
    "\n",
    "Let's start with a simple sine wave example. We have a time series signal where\n",
    "\n",
    "$$y = \\sin(t)$$\n",
    "\n",
    "with a sampling rate of 30 and a frequency of 2Hz. We can display this function as follows"
   ]
  },
  {
   "cell_type": "code",
   "execution_count": null,
   "metadata": {
    "scrolled": false
   },
   "outputs": [],
   "source": [
    "# Set the signal properties.\n",
    "sampling_rate = 30.0\n",
    "frequency = 2\n",
    "\n",
    "# Set a range of t values from 0 to 1 spaced according to the sampling rate.\n",
    "t = np.arange(0, 1, 1.0 / sampling_rate)\n",
    "\n",
    "# Get the corresponding y values.\n",
    "y = np.sin(2 * np.pi * frequency * t)\n",
    "\n",
    "# Plot the signal\n",
    "plot.stem_plot(y, x_vals=t, title='Sine Wave', imag=False, ylim=(-1.1, 1.1), xlab='$t$', ylab='$y(t)$')"
   ]
  },
  {
   "cell_type": "markdown",
   "metadata": {},
   "source": [
    "We can see that out of the 30 coefficients only 2 are equal to zero and therefore this signal is clearly not sparse according the definition provided.\n",
    "\n",
    "### <font color='blue'>Discrete Fourier Transform</font>\n",
    "\n",
    "We can transform our signal using the <a href=\"https://en.wikipedia.org/wiki/Discrete_Fourier_transform\" target_=\"blank\">Discrete Fourier Transform (DFT)</a> in order to examine its frequency components. \n",
    "\n",
    "The DFT of a signal $x$ is given by\n",
    "\n",
    "$$X_k = \\sum_{n=0}^{N-1}x_n e^{-i2\\pi kn/N}$$\n",
    "\n",
    "which can be implemented as follows."
   ]
  },
  {
   "cell_type": "code",
   "execution_count": null,
   "metadata": {},
   "outputs": [],
   "source": [
    "# Calculate the DFT of a given signal\n",
    "def dft(data):\n",
    "\n",
    "    xn = np.asarray(data, dtype=float)\n",
    "    N = data.size\n",
    "    n = np.arange(N)\n",
    "    k = n.reshape((N, 1))\n",
    "    \n",
    "    return np.dot(np.exp(-2j * np.pi * k * n / N), xn)"
   ]
  },
  {
   "cell_type": "markdown",
   "metadata": {},
   "source": [
    "Using this function we can compute the normalised DFT of the time series signal."
   ]
  },
  {
   "cell_type": "code",
   "execution_count": null,
   "metadata": {
    "scrolled": false
   },
   "outputs": [],
   "source": [
    "# Get the frequency range.\n",
    "w = np.fft.fftfreq(t.size, 1 / sampling_rate)\n",
    "\n",
    "# Calculate the normalised DFT of the signal.\n",
    "y_fft = np.abs(dft(y)) / y.size \n",
    "\n",
    "# Plot the signal\n",
    "plot.stem_plot(y_fft, x_vals=w, title='Fourier Transform of Sine', imag=False, ylim=(-0.1, 0.6),\n",
    "               xlab='$\\omega$', ylab=r'$\\frac{|y(\\omega)|}{n}$')"
   ]
  },
  {
   "cell_type": "markdown",
   "metadata": {},
   "source": [
    "Now, we have only two coefficients which are non-zero (in fact we only need one as the signal is symmetric in Fourier space). So, although in its natural domain our signal does not appear to be sparse, we were able to find a sparse representation in a different basis.\n",
    "\n",
    "So, how can the knowledge that a given signal is sparse in a given domain be useful?"
   ]
  },
  {
   "cell_type": "markdown",
   "metadata": {},
   "source": [
    "### <font color='green'>Fast Fourier Transform</font>\n",
    "\n",
    "Note that we can more easily convert signals back and forth between the direct and Fourier space using the <a href=\"https://en.wikipedia.org/wiki/Fast_Fourier_transform\" target_=\"blank\">Fast Fourier Transform (FFT)</a>."
   ]
  },
  {
   "cell_type": "code",
   "execution_count": null,
   "metadata": {},
   "outputs": [],
   "source": [
    "# FFT\n",
    "def fft(data):\n",
    "    \n",
    "    return np.fft.fftshift(np.fft.fft(np.fft.ifftshift(data)))\n",
    "\n",
    "# Inverse FFT\n",
    "def ifft(data):\n",
    "\n",
    "    return np.fft.fftshift(np.fft.ifft(np.fft.ifftshift(data)))"
   ]
  },
  {
   "cell_type": "markdown",
   "metadata": {},
   "source": [
    "---\n",
    "\n",
    "## Sparsity\n",
    "\n",
    "We can use the knowledge that a signal is sparse as prior knowledge when solving an inverse problem. In other words, if we know in advance that the signal we are trying to recover is sparse in a given domain we can impose this property upon our reconstruction. This enables us to reduce the parameter space and allows us to converge upon a better and simpler solution.\n",
    "\n"
   ]
  },
  {
   "cell_type": "markdown",
   "metadata": {},
   "source": [
    "### <font color='blue'>Sparse Representation</font>\n",
    "\n",
    "A signal $x$ can be respresented as\n",
    "\n",
    "$$x = \\phi\\alpha = \\sum_{i=1}^n\\phi_i\\alpha_i$$\n",
    "\n",
    "where $\\alpha$ are the sparse coefficients of $x$ in the dictionary $\\phi$ and $n$ is the sparsity of the signal. Each $\\phi_i$ corresponds to an *atom* of the dictionay $\\phi$. In the case of Fourier decomposition the atoms are sinusoids and when $\\phi$ is a matrix the atoms are the columns of the matrix."
   ]
  },
  {
   "cell_type": "markdown",
   "metadata": {},
   "source": [
    "### <font color='blue'>Measures of Sparsity</font>\n",
    "\n",
    "The true sparsity of a signal can be measured with the $l_0$ pseudo-norm.\n",
    "\n",
    "$$\\|x\\|_0 = \\text{Card}(\\text{Supp}(x))$$\n",
    "\n",
    "*i.e.* the number of non-zero elements in the signal. However, this function is non-convex and is computationally hard  to solve. Therefore, in practice the convex $l_1$ norm is used instead.\n",
    "\n",
    "$$\\|x\\|_1 = \\sum_{i=1}^n |x_i|$$\n",
    "\n",
    "The $l_1$ norm is the closest convex norm to $l_0$ and <a href=\"https://ieeexplore.ieee.org/document/959265/\" target_=\"blank\">Donoho and Huo (1999)</a> have shown that for sufficiently sparse signals the two norms are equivalent.\n",
    "\n",
    "We can use this to measure the sparsity of our time-frequency example."
   ]
  },
  {
   "cell_type": "code",
   "execution_count": null,
   "metadata": {
    "scrolled": true
   },
   "outputs": [],
   "source": [
    "# Function to measure the l1 norm.\n",
    "def l1_norm(signal):\n",
    "    \n",
    "    return np.sum(np.abs(signal))\n",
    "\n",
    "# Get the l1 norm of the time and frequency signals.\n",
    "print('The l1 norm of the time signal:', l1_norm(y))\n",
    "print('The l1 norm of the frequency signal:', l1_norm(y_fft))"
   ]
  },
  {
   "cell_type": "markdown",
   "metadata": {},
   "source": [
    "As expected the frequency signal is significantly more sparse."
   ]
  },
  {
   "cell_type": "markdown",
   "metadata": {},
   "source": [
    "### <font color='blue'>Promoting Sparsity</font>\n",
    "\n",
    "In order to actually produce solutions that are more sparse one typically performs a thresholding operation in the sparse domain.\n",
    "\n",
    "Here we introduce the soft thresholding operator and compare it with a more commonly known hard thresholding operator.\n",
    "\n",
    "**Hard Thresholding**\n",
    "\n",
    "$$HT_{\\lambda}(x_i) = \\begin{cases} x_i & \\text{if}\\ |x_i| \\geq \\lambda \\\\  0 & \\text{otherwise} \\\\ \\end{cases}$$\n",
    "\n",
    "**Soft Thresholding**\n",
    "\n",
    "$$ST_{\\lambda}(x_i) = \\begin{cases} x_i - \\lambda\\text{sign}(x_i) & \\text{if}\\ |x_i| \\geq \\lambda \\\\  0 & \\text{otherwise} \\\\ \\end{cases}$$\n",
    "\n",
    "These operations can be implemented with the following functions."
   ]
  },
  {
   "cell_type": "code",
   "execution_count": null,
   "metadata": {},
   "outputs": [],
   "source": [
    "# Function for performing hard thresholding.\n",
    "def hard_thresh(signal, threshold):\n",
    "    \n",
    "    return signal * (np.abs(signal) >= threshold)\n",
    "\n",
    "# Function for performing soft thresholding.\n",
    "def soft_thresh(signal, threshold):\n",
    "    \n",
    "    return np.sign(signal) * (np.abs(signal) - threshold) * (np.abs(signal) >= threshold)"
   ]
  },
  {
   "cell_type": "markdown",
   "metadata": {},
   "source": [
    "In the following cell you can see how these functions work on the following matrix for different values of the threshold, $\\lambda$.\n",
    "\n",
    "$$M = \\begin{bmatrix} \n",
    "1 & 2 & 3 & 4 & 5 \\\\\n",
    "6 & 7 & 8 & 9 & 10 \\\\\n",
    "11 & 12 & 13 & 14 & 15 \\\\\n",
    "6 & 17 & 18 & 19 & 20 \\\\\n",
    "21 & 22 & 23 & 24 & 25 \n",
    "\\end{bmatrix}$$\n",
    "\n",
    "<br>\n",
    "<font color='orange'>INTERACTIVE CELL</font>"
   ]
  },
  {
   "cell_type": "code",
   "execution_count": null,
   "metadata": {},
   "outputs": [],
   "source": [
    "######################################\n",
    "# YOU SHOULD INTERACT WITH THIS CELL #\n",
    "######################################\n",
    "\n",
    "def test_thresh(thresh_type=None, lambda_val=None):\n",
    "\n",
    "    matrix = np.arange(25).reshape(5, 5) + 1\n",
    "    \n",
    "    if thresh_type == 'Hard':\n",
    "        thresh_matrix = hard_thresh(matrix, lambda_val)\n",
    "    elif thresh_type == 'Soft':\n",
    "        thresh_matrix = soft_thresh(matrix, lambda_val)\n",
    "        \n",
    "    plot.display(thresh_matrix, vmin=0, vmax=25)\n",
    "    \n",
    "    print(thresh_matrix)\n",
    "    print()\n",
    "    print('The l1 norm of the matrix:', l1_norm(thresh_matrix))\n",
    "    \n",
    "lambda_slider = IntSlider(value=0, min=0, max=26, step=1)\n",
    "thresh_option = Select(options=['Hard', 'Soft'], value='Hard', description='Threshold Type', disabled=False)\n",
    "    \n",
    "interact(test_thresh, thresh_type=thresh_option, lambda_val=lambda_slider)"
   ]
  },
  {
   "cell_type": "markdown",
   "metadata": {},
   "source": [
    "### <font color='green'>Median Absolute Deviation</font>\n",
    "\n",
    "The threshold value, $\\lambda$, will vary depending on the type of problem. In the case of denoising $\\lambda=n\\sigma$, where $\\sigma$ an estimate of the noise standard deviation in the sparse domain and $n$ is multiplicative factor (usually around 3 or 4).\n",
    "\n",
    "A robust measure of the noise standard deviation of a given signal can be obtained using the <a href=\"https://en.wikipedia.org/wiki/Median_absolute_deviation\" target_=\"blank\">Median Absolute Deviation (MAD)</a>, \n",
    "\n",
    "$$\\textrm{MAD} = \\textrm{median}(|X_i - \\textrm{median}(X)|)$$\n",
    "\n",
    "which can be calculated using the following function."
   ]
  },
  {
   "cell_type": "code",
   "execution_count": null,
   "metadata": {},
   "outputs": [],
   "source": [
    "# Function to calculate the noise standard deviation using the median absolute deviation.\n",
    "def sigma_mad(signal):\n",
    "    \n",
    "    return 1.4826 * np.median(np.abs(signal - np.median(signal)))"
   ]
  },
  {
   "cell_type": "markdown",
   "metadata": {},
   "source": [
    "The following cell demonstrates how well this function recovers the value of $\\sigma$.\n",
    "\n",
    "<br>\n",
    "<font color='orange'>INTERACTIVE CELL</font>"
   ]
  },
  {
   "cell_type": "code",
   "execution_count": null,
   "metadata": {},
   "outputs": [],
   "source": [
    "######################################\n",
    "# YOU SHOULD INTERACT WITH THIS CELL #\n",
    "######################################\n",
    "\n",
    "def test_sigma_mad(sigma=None):\n",
    "\n",
    "    # Generate random signal\n",
    "    np.random.seed(2)\n",
    "    random_signal = np.random.randn(1000) * sigma\n",
    "\n",
    "    # Calcualte sigma from MAD\n",
    "    print('sigma estimate from MAD =', sigma_mad(random_signal))\n",
    "    \n",
    "sigma_slider = FloatSlider(value=0.2, min=0.2, max=2, step=0.2)\n",
    "\n",
    "interact(test_sigma_mad, sigma=sigma_slider)"
   ]
  },
  {
   "cell_type": "markdown",
   "metadata": {},
   "source": [
    "### <font color='blue'>Sparse Regularisation</font>\n",
    "\n",
    "For solving an inverse problem of the form\n",
    "\n",
    "$$y = Hx$$\n",
    "\n",
    "we aim to minimise a function of the following form\n",
    "\n",
    "$$\\begin{aligned} & \\underset{x}{\\text{argmin}} & \\frac{1}{2}\\|y-Hx\\|_2^2\\end{aligned}$$\n",
    "\n",
    "Now, if we know that $x$ is sparse in the domain $x = \\phi\\alpha$, we can update our minimisation problem as follows\n",
    "\n",
    "$$\\begin{aligned} & \\underset{\\alpha}{\\text{argmin}} & \\frac{1}{2}\\|y-H\\phi\\alpha\\|_2^2 + \\lambda\\|\\alpha\\|_1\\end{aligned}$$\n",
    "\n",
    "where we now seek a value of $\\alpha$ that both minimises the data fidelity term and requires that $\\alpha$ be sparse. This formulation is generally referred to as a *synthesis prior*. This problem can alternatively be formulated as follows\n",
    "\n",
    "$$\\begin{aligned} & \\underset{x}{\\text{argmin}} & \\frac{1}{2}\\|y-Hx\\|_2^2 + \\lambda\\|\\phi^{T}x\\|_1\\end{aligned}$$\n",
    "\n",
    "which is referred to as an *analysis prior*. When $\\phi$ is orthogonal these two formulations are equivalent, when $\\phi$ is not orthogonal this is no longer the case. Each approach has certain benefits when applied to different problems."
   ]
  },
  {
   "cell_type": "markdown",
   "metadata": {},
   "source": [
    "---\n",
    "\n",
    "## Denoising Example\n",
    "\n",
    "This example provides a very simple demonstration of how sparse representations of signals can be extremely useful. The objective is to recover the original signal from a noisy observation by denoising it in a appropriate sparse domain.\n",
    "\n",
    "Let's start by looking at a basic cosine function with added Gaussian noise ($\\sigma=3$)."
   ]
  },
  {
   "cell_type": "code",
   "execution_count": null,
   "metadata": {
    "scrolled": false
   },
   "outputs": [],
   "source": [
    "# Define a range of values\n",
    "t = np.linspace(0, 22 * np.pi, 1000, endpoint=False)\n",
    "\n",
    "# Set the noise level.\n",
    "sigma = 3.0\n",
    "\n",
    "# Define the signal.\n",
    "x = np.cos(t + 11 * np.pi / 1000)\n",
    "\n",
    "# Add noise to the signal.\n",
    "np.random.seed(1)\n",
    "y = x + sigma * np.random.randn(x.size)\n",
    "\n",
    "plot.line_plot(x, title='True Signal', ylim=(-1.1, 1.1))\n",
    "plot.line_plot(y, title='Noisy Observation')"
   ]
  },
  {
   "cell_type": "markdown",
   "metadata": {},
   "source": [
    "### <font color='blue'>Choose Sparse Representation</font>\n",
    "\n",
    "Your first task is to identify an appropriate sparse domain for the signals.\n",
    "\n",
    "<br>\n",
    "<font color='red'>EXERCISE CELL</font> "
   ]
  },
  {
   "cell_type": "code",
   "execution_count": null,
   "metadata": {},
   "outputs": [],
   "source": [
    "##############################\n",
    "# YOU NEED TO EDIT THIS CELL #\n",
    "##############################\n",
    "\n",
    "# Define the sparse representations of the signals.\n",
    "x_sparse = None\n",
    "y_sparse = None"
   ]
  },
  {
   "cell_type": "markdown",
   "metadata": {},
   "source": [
    "Now we can have a look at the siganls in the sparse domain you chose."
   ]
  },
  {
   "cell_type": "code",
   "execution_count": null,
   "metadata": {},
   "outputs": [],
   "source": [
    "# Plot the signals\n",
    "if x_sparse is not None:\n",
    "    plot.line_plot(np.abs(x_sparse), title='True Signal in Sparse Domain')\n",
    "if y_sparse is not None:\n",
    "    plot.line_plot(np.abs(y_sparse), title='Noisy Observation in Sparse Domain')"
   ]
  },
  {
   "cell_type": "markdown",
   "metadata": {},
   "source": [
    "Can you identify and similarities between the original and noisy signals in the sparse domain?\n",
    "\n",
    "If not, you may want to rethink your choice.\n",
    "\n",
    "### <font color='blue'>Denoising</font>\n",
    "\n",
    "Your next task is to determine the appropriate threshold value, $\\lambda$, and use this to remove the noise from the observed signal. \n",
    "\n",
    "<br>\n",
    "<font color='red'>EXERCISE CELL</font> "
   ]
  },
  {
   "cell_type": "code",
   "execution_count": null,
   "metadata": {},
   "outputs": [],
   "source": [
    "##############################\n",
    "# YOU NEED TO EDIT THIS CELL #\n",
    "##############################\n",
    "\n",
    "# Determine the value of lambda.\n",
    "lambda_val = None\n",
    "\n",
    "# Perform thresholding.\n",
    "x_rec = None"
   ]
  },
  {
   "cell_type": "markdown",
   "metadata": {},
   "source": [
    "Now let's look at the signal you have recovered."
   ]
  },
  {
   "cell_type": "code",
   "execution_count": null,
   "metadata": {},
   "outputs": [],
   "source": [
    "# Plot the denoised signal\n",
    "if x_rec is not None:\n",
    "    plot.line_plot(np.real(x_rec), title='Denoised Signal', ylim=(-1.1, 1.1))"
   ]
  },
  {
   "cell_type": "markdown",
   "metadata": {},
   "source": [
    "Did it work?"
   ]
  },
  {
   "cell_type": "markdown",
   "metadata": {},
   "source": [
    "### <font color='blue'>Residual</font>\n",
    "\n",
    "Finally, we can examine the residual of your recovered signal to get a sense of how close to the original signal it is.\n",
    "\n",
    "$$x - \\hat{x}$$"
   ]
  },
  {
   "cell_type": "code",
   "execution_count": null,
   "metadata": {},
   "outputs": [],
   "source": [
    "# Plot the residual\n",
    "if x_rec is not None:\n",
    "    plot.line_plot(np.real(x - x_rec), title='Residual', ylim=(-1.1, 1.1))"
   ]
  },
  {
   "cell_type": "markdown",
   "metadata": {},
   "source": [
    "Which threshold produces the best residual? Why do we have a residual? Try decreasesing the noise added to the original signal and see what happens."
   ]
  },
  {
   "cell_type": "markdown",
   "metadata": {
    "collapsed": true
   },
   "source": [
    "---\n",
    "\n",
    "## <font color='orange'>Hints</font>\n",
    "\n",
    "** Denoising Exercise Hints **\n",
    "\n",
    "1. For your sparse representation you may want to use soemthing *fast and f(o)urious*.\n",
    "1. Try not to get *mad* when choosing $\\lambda$.\n",
    "1. Thresholding signals can be quite *hard*.\n",
    "1. Make sure you theshold in the correct domain.\n",
    "1. Make sure your recovered signal is the correct domain."
   ]
  },
  {
   "cell_type": "markdown",
   "metadata": {},
   "source": [
    "[Open next notebook ->](./sparsity_2_compressed_sensing.ipynb)"
   ]
  }
 ],
 "metadata": {
  "kernelspec": {
   "display_name": "Python 3",
   "language": "python",
   "name": "python3"
  },
  "language_info": {
   "codemirror_mode": {
    "name": "ipython",
    "version": 3
   },
   "file_extension": ".py",
   "mimetype": "text/x-python",
   "name": "python",
   "nbconvert_exporter": "python",
   "pygments_lexer": "ipython3",
   "version": "3.7.2"
  }
 },
 "nbformat": 4,
 "nbformat_minor": 1
}
