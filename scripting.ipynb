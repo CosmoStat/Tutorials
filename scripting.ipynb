{
 "cells": [
  {
   "cell_type": "markdown",
   "metadata": {},
   "source": [
    "Congratulations! If you managed to reach this point of the tutorial, you've become a bash novice!\n",
    "\n",
    "## Bash Scripts\n",
    "\n",
    "Bash and Python are both interpreted programming languages. We have seen so far how to directly use bash in the interpreter. Now we are going to see how to write a script and launch it.\n",
    "\n",
    "### Example 1: Writing a simple script\n",
    "\n",
    "Run the following line in the terminal `echo echo Hello World > myscript.sh`:\n",
    "> Note: the extension of a bash script is `.sh`"
   ]
  },
  {
   "cell_type": "code",
   "execution_count": null,
   "metadata": {},
   "outputs": [],
   "source": []
  },
  {
   "cell_type": "markdown",
   "metadata": {},
   "source": [
    "Now you have created a bash script which name is `myscript`. To run, execute the following command in the terminal `bash myscript.sh`:"
   ]
  },
  {
   "cell_type": "code",
   "execution_count": null,
   "metadata": {},
   "outputs": [],
   "source": []
  },
  {
   "cell_type": "markdown",
   "metadata": {},
   "source": [
    "### Example 2: For Loop\n",
    "\n",
    "Here is the general structure of a for loop in bash:\n",
    "\n",
    "```bash\n",
    "for item in list\n",
    "do\n",
    "    operation1;\n",
    "    operation2;\n",
    "    ...\n",
    "    operationN;\n",
    "done```\n",
    "\n",
    "Lists can be items separated by a space, the output of a command such as `ls` or an interval of numbers or letters, e.g. `{2..67}` (this a list of all integers from 2 to 67) and `{c..v}` (this a list of all lowercase letter from c to v).\n",
    "\n",
    "Here `item` is the variable on which the loop iterates. When defining, we just write its name as it is and when we need to access it value we add a `$` prefix like `$item`.\n",
    "\n",
    "### Exercice\n",
    "\n",
    "Complete the following script such that it counts from 1 to 10, using a for loop when launched:\n",
    "> There a backslach `\\` before the dollar to indicate that this special character will be treated like a normal one."
   ]
  },
  {
   "cell_type": "code",
   "execution_count": null,
   "metadata": {},
   "outputs": [],
   "source": [
    "touch count10.sh;\n",
    "echo \"for [COMPLETE] in {1..[COMPLETE];\n",
    "        do echo \\$i;\n",
    "      done\" > [COMPLETE]"
   ]
  },
  {
   "cell_type": "markdown",
   "metadata": {},
   "source": [
    "<span style=\"color:blue\">Double click for answer</span>\n",
    "\n",
    "<script>\n",
    "Answer: touch count10.sh;\n",
    "echo \"for i in {1..10};\n",
    "        do echo \\$i;\n",
    "      done\" > count10.sh\n",
    "</script>"
   ]
  },
  {
   "cell_type": "markdown",
   "metadata": {},
   "source": [
    "Now launch the script to test if it works."
   ]
  },
  {
   "cell_type": "code",
   "execution_count": null,
   "metadata": {},
   "outputs": [],
   "source": []
  },
  {
   "cell_type": "markdown",
   "metadata": {},
   "source": [
    "<span style=\"color:blue\">Double click for answer</span>\n",
    "\n",
    "<script>\n",
    "Answer: bash count10.sh\n",
    "</script>"
   ]
  },
  {
   "cell_type": "markdown",
   "metadata": {},
   "source": [
    "### Example 3: Arguments\n",
    "\n",
    "The scripts that we have written so far don't have any arguments. There are two type of arguments: items and list. In the following two examples, we will see two type of arguments: \n",
    "\n",
    "- Code 1: Count Items in Directory\n",
    "```bash\n",
    "# Count Items in Directory\n",
    "# Usage: bash code1.sh list\n",
    "ls $1 | wc -l ```\n",
    "`$1` is an item argument. If the argument contains spaces it is better to write `\"$1\"`. If we need more item arguments (also called positional arguments) we can use `$2`, `$3`, ..., `$9`, `${10}`, `${11}`, ... . `#` indicates a comment line.\n",
    "\n",
    "\n",
    "- Code 2: Greet User and Count From 1 Till a Given Number\n",
    "```bash\n",
    "# Greet User and Count From 1 Till a Given Number\n",
    "# Usage: bash code2.sh username number\n",
    "echo Hello $1\n",
    "for num in $(eval \"echo {1..$2}\")\n",
    "do\n",
    "    echo $num\n",
    "done\n",
    "    ```\n",
    "Notice that the `for` interval is written as `$(eval \"echo {1..$2}\")` instead of `{1..$2}`. The latter expression does not work because of the order of the expressions are executed in bash: the curly brackets is examined before the `$2`. For example if the second argument is 42 then instead of having a list from 1 to 42, we only obtain the string `{1..42}` as an item. Now the former expression starts by evaluating `{1..$2}` as a string, e.g. `{1,..42}` then the expression `echo {1..$2}`, e.g. `echo {1..42}`, is evaluated as an argument of `eval` (this command evaluates its input as a command and returns its output). So we finally obtain the list of numbers between 1 and `$2`, e.g. 1 and 42.\n",
    "\n",
    "\n",
    "- Code 3: Makes a copy of processed files\n",
    "```bash\n",
    "# Makes a copy of processed files\n",
    "# Usage: bash code3.sh list \n",
    "for file in $@\n",
    "do\n",
    "    cp $file processed\"$file\";\n",
    "done\n",
    "echo Done```\n",
    "\n",
    "`$@` is a list argument. If its items contain spaces it is better to write `\"$@\"`.\n",
    "\n",
    "Go to `molecules` directory. Run the cell below to create the script `code1.sh`."
   ]
  },
  {
   "cell_type": "code",
   "execution_count": null,
   "metadata": {},
   "outputs": [],
   "source": [
    "touch code1.sh; echo \"ls \\$1 | wc -l\" > code1.sh"
   ]
  },
  {
   "cell_type": "markdown",
   "metadata": {},
   "source": [
    "Execute the script on the current working directory.\n",
    "> Usage: `bash code1.sh dir`"
   ]
  },
  {
   "cell_type": "code",
   "execution_count": null,
   "metadata": {},
   "outputs": [],
   "source": [
    "bash code1.sh ."
   ]
  },
  {
   "cell_type": "markdown",
   "metadata": {},
   "source": [
    "Run the cell below to create the script `code2.sh`."
   ]
  },
  {
   "cell_type": "code",
   "execution_count": null,
   "metadata": {},
   "outputs": [],
   "source": [
    "touch code2.sh; echo \"# Greet User and Count From 1 Till a Given Number\n",
    "# Usage: bash code2.sh username number\n",
    "echo Hello \\$1\n",
    "for num in \\$(eval \"echo {1..\\$2}\")\n",
    "do\n",
    "  echo \\$num\n",
    "done\" > code2.sh"
   ]
  },
  {
   "cell_type": "markdown",
   "metadata": {},
   "source": [
    "Complete the following command with a name and a number of your choice and run it."
   ]
  },
  {
   "cell_type": "code",
   "execution_count": null,
   "metadata": {},
   "outputs": [],
   "source": [
    "bash code2.sh [REPLACE BY NAME] [REPLACE BY NUMBER]"
   ]
  },
  {
   "cell_type": "markdown",
   "metadata": {},
   "source": [
    "Run the cell below to create the script."
   ]
  },
  {
   "cell_type": "code",
   "execution_count": null,
   "metadata": {},
   "outputs": [],
   "source": [
    "touch code3.sh; echo \"# Count Items in Directory\n",
    "# Usage: bash code3.sh list\n",
    "ls $1 | wc -l\" > code3.sh"
   ]
  },
  {
   "cell_type": "markdown",
   "metadata": {},
   "source": [
    "Execute the script."
   ]
  },
  {
   "cell_type": "code",
   "execution_count": null,
   "metadata": {},
   "outputs": [],
   "source": [
    "bash code3.sh $(ls .)"
   ]
  },
  {
   "cell_type": "markdown",
   "metadata": {},
   "source": [
    "### Exercice\n",
    "Create a script that writes the letters within a range given by the user. The output must go in `letters.txt`."
   ]
  },
  {
   "cell_type": "code",
   "execution_count": null,
   "metadata": {},
   "outputs": [],
   "source": []
  },
  {
   "cell_type": "markdown",
   "metadata": {},
   "source": [
    "<span style=\"color:blue\">Double click for answer</span>\n",
    "\n",
    "<script>\n",
    "Answer: touch countLetters.sh; echo \"touch letters.txt; rm letters.txt\n",
    "for letter in \\$(eval echo {\\$1..\\$2})\n",
    "do\n",
    "    echo \\$letter >> letters.txt\n",
    "done\n",
    "echo Done\" > countLetters.sh\n",
    "</script>"
   ]
  },
  {
   "cell_type": "markdown",
   "metadata": {},
   "source": [
    "Test the script in the following cell and use `cat` to open the text file."
   ]
  },
  {
   "cell_type": "code",
   "execution_count": null,
   "metadata": {},
   "outputs": [],
   "source": []
  },
  {
   "cell_type": "markdown",
   "metadata": {},
   "source": [
    "<span style=\"color:blue\">Double click for answer</span>\n",
    "\n",
    "<script>\n",
    "Answer: bash countLetters.sh e f; cat letters.txt\n",
    "</script>"
   ]
  },
  {
   "cell_type": "markdown",
   "metadata": {},
   "source": [
    "<br /><div style=\"text-align: right\"> [Next section →](./screening.ipynb) </div>"
   ]
  }
 ],
 "metadata": {
  "kernelspec": {
   "display_name": "Bash",
   "language": "bash",
   "name": "bash"
  },
  "language_info": {
   "codemirror_mode": "shell",
   "file_extension": ".sh",
   "mimetype": "text/x-sh",
   "name": "bash"
  }
 },
 "nbformat": 4,
 "nbformat_minor": 4
}
