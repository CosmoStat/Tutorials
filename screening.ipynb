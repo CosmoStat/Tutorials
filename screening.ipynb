{
 "cells": [
  {
   "cell_type": "markdown",
   "metadata": {},
   "source": [
    "## **Screening (to avoid killing your jobs while leaving the office)**"
   ]
  },
  {
   "cell_type": "markdown",
   "metadata": {},
   "source": [
    "Screen is a small tool that enable emulating a persistent active bash terminal, from which a user can:\n",
    "\n",
    "*   Run bash commands,\n",
    "*   Run a program that does not require a GUI,\n",
    "*   Detach/Re-attach to a terminal from any computer\n",
    "\n",
    "There is two main motivations to use Screen:\n",
    "\n",
    "1. **Flexible process management**: It is particularly useful when someone wants to run a process on a \"remote\" machine, and be able to leave office before the end of the process, and be able to \"reconnect\" to the terminal from another place (e.g. home).\n",
    "\n",
    "2. **Coping with unstable connection**: It is also VERY useful when the internet connection is unstable, you know then that the disconnection will not trigger the shutdown of the process, as it is done on a simple ssh terminal connection.\n",
    "\n",
    "3. **Doing dirty parallelization**: The user can create/remove multiple screen sessions. It can serve as a way to do \"manual parallelization\" (e.g. run the same script on different datasets, or with different input parameters). It save you the burden of using nohup, cron, or foreground/background process management with ```&```."
   ]
  },
  {
   "cell_type": "markdown",
   "metadata": {},
   "source": [
    "--------"
   ]
  },
  {
   "cell_type": "markdown",
   "metadata": {},
   "source": [
    "### 1) Fast and furious demo"
   ]
  },
  {
   "cell_type": "markdown",
   "metadata": {},
   "source": [
    "<span style=\"color:red\"><b>To run the commands in the screen tutorial you will need to use a terminal. <a href=\"../terminals/1\">Click here</a> to open a terminal in a new tab.</b></span>\n",
    "> If the terminal is not responding, click on it then hit <kbd>ctrl</kbd>+<kbd>C</kbd>. The key combination <kbd>ctrl</kbd>+<kbd>C</kbd> kills any running process in the terminal."
   ]
  },
  {
   "cell_type": "markdown",
   "metadata": {},
   "source": [
    "To fire a new screen session, type the following command, it will create a new Screen session named ```virtualterm```:\n",
    "```bash\n",
    "screen -S virtualterm```\n",
    "\n",
    "Congratulations you are in a virtual terminal now. By the way, as it is run on a \"per-user\" principle, it will use your local ```.bashrc``` as usual. The prompt will simply show you something like:"
   ]
  },
  {
   "cell_type": "raw",
   "metadata": {},
   "source": [
    "bash-3.2$"
   ]
  },
  {
   "cell_type": "markdown",
   "metadata": {},
   "source": [
    "All commands that you type on the keyboard will now be captured by this terminal.\n",
    "\n",
    "For the sake of the demo, please write ```echo Hello World from inside Screen!```"
   ]
  },
  {
   "cell_type": "raw",
   "metadata": {},
   "source": [
    "bash-3.2$ echo Hello World from inside Screen!\n",
    "Hello World from inside Screen!"
   ]
  },
  {
   "cell_type": "markdown",
   "metadata": {},
   "source": [
    "--------"
   ]
  },
  {
   "cell_type": "markdown",
   "metadata": {},
   "source": [
    "**Thanks but, how the hell can I get outta here?**\n",
    "\n",
    "Simple, there is a magic command that helps you control the session. We are going to start with the simple Detach/Attach command for now which is the command that you will end up using 99,9% of the time.\n",
    "\n",
    "1) The first thing to do is to press <kbd>Ctrl</kbd>+<kbd>a</kbd> (lower-case). Nothing happens, but this command will make you enter the hidden Screen \"menu\".\n",
    "\n",
    "2) Then, to *detach* from the screen session, simply press <kbd>d</kbd> and you are back to the original terminal with its original history.\n",
    "\n",
    "Be aware that being *detached* did not kill the screen session, that's the principle of Screen: you can voluntarily detach or be unplugged by your cat, you Screen session will survive human/feline mistakes."
   ]
  },
  {
   "cell_type": "markdown",
   "metadata": {},
   "source": [
    "--------"
   ]
  },
  {
   "cell_type": "markdown",
   "metadata": {},
   "source": [
    "**Ok, but now, how can I go back to it ?**\n",
    "\n",
    "Simply by issuing the following command for *reattachment*:\n",
    "```bash\n",
    "screen -r virtualterm```"
   ]
  },
  {
   "cell_type": "raw",
   "metadata": {},
   "source": [
    "bash-3.2$ echo Hello World from inside Screen!\n",
    "Hello World from inside Screen!\n",
    "bash-3.2$"
   ]
  },
  {
   "cell_type": "markdown",
   "metadata": {},
   "source": [
    "Congratulations, you are reattached to your screen terminal ! You are probably not aware of it now, but this is but the main and most valuable feature of Screen."
   ]
  },
  {
   "cell_type": "markdown",
   "metadata": {},
   "source": [
    "<font size=\"1\">Note 1: you can use ```-R``` (capital R), it will try to reattach to the session, if the session does not exist, it will create it under this name.</font>"
   ]
  },
  {
   "cell_type": "markdown",
   "metadata": {},
   "source": [
    "--------"
   ]
  },
  {
   "cell_type": "markdown",
   "metadata": {},
   "source": [
    "**How to terminate a screen session?**\n",
    "\n",
    "From inside a screen session, simply type ```exit``` as any terminal. If you need to kill a session, check below for instructions."
   ]
  },
  {
   "cell_type": "markdown",
   "metadata": {},
   "source": [
    "--------"
   ]
  },
  {
   "cell_type": "markdown",
   "metadata": {},
   "source": [
    "**Great ! Now you are a Screen user !**\n",
    "\n",
    "The laziest among you can probably stop the tutorial here and explore later, but as we know that we all are control freaks, let's go on a more advanced mode."
   ]
  },
  {
   "cell_type": "markdown",
   "metadata": {},
   "source": [
    "<font size=\"1\">*Note 1: you could use ```screen``` alone. But it will be cumbersome as it will generate automatically a screen session with a welcoming page that will force you to push <kbd>Enter</kbd> before using the screen. In addition, the session name will be something like ```2164.ttys005.mymachine01```, which is nor practical nor esthetical.*</font>\n",
    "\n",
    "<font size='1'>*Note 2: Some restrictions apply: the usage of a X windows can be faulty or restricted: if you have a GUI in your screen session, it will not be possible to detach from a session and hope getting the GUI from another machine once reattached.*</font>\n",
    "\n",
    "<font size='1'>*Note 3: As far as I know, as it is \"per-user\", two user cannot unfortunately share the same Screen session and attach/detach from it.*"
   ]
  },
  {
   "cell_type": "markdown",
   "metadata": {},
   "source": [
    "### 2) Advanced use"
   ]
  },
  {
   "cell_type": "markdown",
   "metadata": {},
   "source": [
    "#### Create multiple Screen sessions"
   ]
  },
  {
   "cell_type": "markdown",
   "metadata": {},
   "source": [
    "Ok, that were the basics. Now Detach again from the screen session back to the original terminal.\n",
    "\n",
    "Type one of the following:\n",
    "```bash\n",
    "screen -ls  OR  screen -list```"
   ]
  },
  {
   "cell_type": "raw",
   "metadata": {},
   "source": [
    "(base) mymachine01:bash_intro jovyan$ screen -ls\n",
    "There is a screen on:\n",
    "        1855.virtualterm        (Detached)"
   ]
  },
  {
   "cell_type": "markdown",
   "metadata": {},
   "source": [
    "You now see the list of current active screen sessions. At the moment, there is only one. As everything on Linux, it got a unique **PID** (*Process ID*) attributed by the system. In our case, it was ```1855```. You can do what you want with this process (suspend it, kill it, etc.) as you would do it for any annoying process.\n"
   ]
  },
  {
   "cell_type": "markdown",
   "metadata": {},
   "source": [
    "Let's fire another screen session, but, without attaching to it this time. This can be done with:\n",
    "```bash\n",
    "screen -dmS secondterm```\n",
    "\n",
    "- ```d```:  for detaching\n",
    "- ```S```:  for specifying a session name\n",
    "- ```m```:  the help is unclear about it but the headless creation will not work without it."
   ]
  },
  {
   "cell_type": "markdown",
   "metadata": {},
   "source": [
    "If you print again the list of session, you now have:"
   ]
  },
  {
   "cell_type": "raw",
   "metadata": {},
   "source": [
    "(base) mymachine01:bash_intro jovyan$ screen -ls\n",
    "There are screens on:\n",
    "        2061.secondterm (Detached)\n",
    "        1855.virtualterm        (Detached)\n",
    "2 Sockets in /var/folders/_z/pyh7r4yd24zfj6h081d09hym0000gr/T/.screen."
   ]
  },
  {
   "cell_type": "markdown",
   "metadata": {},
   "source": [
    "#### Remotely detach a remote computer from a screen session."
   ]
  },
  {
   "cell_type": "markdown",
   "metadata": {},
   "source": [
    "If some day, you arrive home, and because you were already late for the bus, you forgot to detach from a screen session on your office. You can remotely detach your office computer from a session and reattach yourself from home. It will force detaching all sessions where the session is active and give you back the control.\n",
    "```bash\n",
    "screen -dr virtualterm```\n",
    "which is equivalent to\n",
    "```bash\n",
    "screen -d virtualterm\n",
    "screen -r virtualterm\n",
    "```"
   ]
  },
  {
   "cell_type": "markdown",
   "metadata": {},
   "source": [
    "<font size=\"1\">*Note 4: Ok, I lied, if you <b>really</b> want to do it, you can use <b>multi display mode</b> enabling you to have multiple computers attached to the same screen session. This is rather risky though. To use is, type ```screen -x sessionname```."
   ]
  },
  {
   "cell_type": "markdown",
   "metadata": {},
   "source": [
    "#### Killing a screen session\n",
    "\n",
    "Ok, you perfect code just turned into a blackhole using all RAM and starting to Swap. Your only option is to kill the attach process.\n",
    "\n",
    "1. List all current active session with ```screen -ls```\n",
    "\n",
    "2. Locate the PID of the process you want to kill.\n",
    "\n",
    "3. Kill it using your favorite weapon ```kill {PID}```, ```kill -9 {PID}```, ... where {PID} is the PID number of the session you want to kill.\n",
    "\n",
    "let's do it:\n",
    "```bash\n",
    "screen -ls```"
   ]
  },
  {
   "cell_type": "raw",
   "metadata": {},
   "source": [
    "(base) mymachine01:bash_intro jovyan$ screen -ls\n",
    "There are screens on:\n",
    "        2461.Blackholeterm      (Detached)\n",
    "        2061.secondterm (Detached)\n",
    "        1855.virtualterm        (Detached)\n",
    "3 Sockets in /var/folders/_z/pyh7r4yd24zfj6h081d09hym0000gr/T/.screen."
   ]
  },
  {
   "cell_type": "markdown",
   "metadata": {},
   "source": [
    "```bash\n",
    "kill 2461```\n",
    "If kill did not work and you had to use ```kill -9``` this will let some left over.\n",
    "\n",
    "Print the list of screens again:"
   ]
  },
  {
   "cell_type": "raw",
   "metadata": {},
   "source": [
    "(base) mymachine01:bash_intro jovyan$ screen -ls\n",
    "There are screens on:\n",
    "        2476.Blackholeterm      (Dead ???)\n",
    "        2061.secondterm (Detached)\n",
    "        1855.virtualterm        (Detached)\n",
    "Remove dead screens with 'screen -wipe'."
   ]
  },
  {
   "cell_type": "markdown",
   "metadata": {},
   "source": [
    "You can clean dead screen session using ```screen -wipe```"
   ]
  },
  {
   "cell_type": "markdown",
   "metadata": {},
   "source": [
    "#### Send a command to a detached screen session (Advanced)"
   ]
  },
  {
   "cell_type": "markdown",
   "metadata": {},
   "source": [
    "If you want to issue a command in a screen session, but without actually attaching to the session, you can use the following command that contains quite complex parts, but particularly useful for automation and scripting without human intervention:\n",
    "```bash\n",
    "screen -S virtualterm -X stuff 'echo I was run from outside the session!'$(echo -ne '\\015')```\n",
    "\n",
    "* ```stuff``` : required to pass the command inside the screen:\n",
    "\n",
    "from screen manpage:\n",
    "```stuff string : Stuff the string string in the input buffer of the current window. This is like the \"paste\" command but with much less overhead. You cannot paste large buffers with the \"stuff\" command. It is most useful for key bindings. See also \"bindkey\"```\n",
    "\n",
    "* ```$(echo -ne '\\015')``` : will emulate the <kbd>Return</kbd> keystroke.\n",
    "\n",
    "To see that it was an effective command, simply attach to virtualterm:"
   ]
  },
  {
   "cell_type": "raw",
   "metadata": {},
   "source": [
    "bash-3.2$ echo I was run from outside the session!\n",
    "I was run from outside the session!\n",
    "bash-3.2$"
   ]
  },
  {
   "cell_type": "markdown",
   "metadata": {},
   "source": [
    "#### Creating multiple windows in a single screen session (Advanced)"
   ]
  },
  {
   "cell_type": "markdown",
   "metadata": {},
   "source": [
    "From inside a single screen session, it is *also* possible to create multiple *windows*. Those would be equivalent to you \"tabs\" in your terminal or in your web browser. With a single session and multiple windows, you can navigate between them and perform more operation. I personnaly never used multiples windows as they can be confusing, so I generally prefer to have a single window in a single screen session and to have multiple screen session I can attach to/detach from."
   ]
  },
  {
   "cell_type": "markdown",
   "metadata": {},
   "source": [
    "The **PID** can help you in case you created multiple screen session with the same name (this happend when you script Screen), then the unique PID can be used in place of the name to perform action on a screen session (e.g. reattach, detach, kill, etc)"
   ]
  },
  {
   "cell_type": "markdown",
   "metadata": {},
   "source": [
    "Here is a complementary list of what is possible to do with Screen:\n",
    "\n",
    "* <kbd>Ctrl</kbd>+<kbd>a</kbd> <kbd>d</kbd> - Detaches from a Screen.\n",
    "* <kbd>Ctrl</kbd>+<kbd>a</kbd> <kbd>c</kbd> - Creates a new Screen window. The default Screen number is zero.\n",
    "* <kbd>Ctrl</kbd>+<kbd>a</kbd> <kbd>a</kbd> - Will move your text cursor at the beginning of the line\n",
    "* <kbd>Ctrl</kbd>+<kbd>a</kbd> <kbd>e</kbd> - Will NOT move your text cursor to the end of the line (for some reason).\n",
    "* <kbd>Ctrl</kbd>+<kbd>a</kbd> <kbd>k</kbd> - Kills the current window. When the command is issued, you will be asked to confirm by entering a y or n.\n",
    "\n",
    "* <kbd>Ctrl</kbd>+<kbd>a</kbd> <kbd>n</kbd> - Switches to the next window.\n",
    "\n",
    "* <kbd>Ctrl</kbd>+<kbd>a</kbd> <kbd>x</kbd> - Locks your terminal window. You will have to enter your password to unlock your terminal session.\n",
    "\n",
    "* <kbd>Ctrl</kbd>+<kbd>a</kbd> <kbd>A</kbd> - Will allow you to enter a title for the window.\n",
    "* <kbd>Ctrl</kbd>+<kbd>a</kbd> <kbd>?</kbd> - Will display a list of all the command options available for Screen.\n",
    "\n",
    "*source: based from https://www.linode.com/docs/networking/ssh/using-gnu-screen-to-manage-persistent-terminal-sessions/*"
   ]
  },
  {
   "cell_type": "markdown",
   "metadata": {},
   "source": [
    "From inside a screen session, you can print the hidden menu with <kbd>Ctrl</kbd>+<kbd>?</kbd>. This will print the following:"
   ]
  },
  {
   "cell_type": "raw",
   "metadata": {},
   "source": [
    "                                 Screen key bindings, page 1 of 1.\n",
    "\n",
    "                                 Command key:  ^A   Literal ^A:  a\n",
    "\n",
    " break       ^B b        history     { }         pow_break   B           suspend     ^Z z\n",
    " clear       C           info        i           pow_detach  D           time        ^T t\n",
    " colon       :           kill        ^K k        prev        ^H ^P p ^?  title       A\n",
    " copy        ^[ [        lastmsg     ^M m        quit        ^\\          vbell       ^G\n",
    " detach      ^D d        license     ,           readbuf     <           version     v\n",
    " digraph     ^V          lockscreen  ^X x        redisplay   ^L l        width       W\n",
    " displays    *           log         H           remove      X           windows     ^W w\n",
    " dumptermcap .           meta        a           removebuf   =           wrap        ^R r\n",
    " fit         F           monitor     M           reset       Z           writebuf    >\n",
    " flow        ^F f        next        ^@ ^N sp n  screen      ^C c        xoff        ^S s\n",
    " focus       ^I          number      N           select      '           xon         ^Q q\n",
    " hardcopy    h           only        Q           silence     _\n",
    " help        ?           other       ^A          split       S\n",
    "\n",
    "^]  paste .\n",
    "\"   windowlist -b\n",
    "-   select -\n",
    "0   select 0\n",
    "1   select 1\n",
    "2   select 2\n",
    "3   select 3\n",
    "4   select 4\n",
    "5   select 5\n",
    "6   select 6\n",
    "7   select 7\n",
    "8   select 8\n",
    "9   select 9\n",
    "]   paste ."
   ]
  },
  {
   "cell_type": "markdown",
   "metadata": {},
   "source": [
    "---- "
   ]
  },
  {
   "cell_type": "markdown",
   "metadata": {},
   "source": [
    "#### Practical exercice of the usage of screen:"
   ]
  },
  {
   "cell_type": "markdown",
   "metadata": {},
   "source": [
    "1. Attach to any screen session\n",
    "\n",
    "2. Issue the following command: it will start a counter counting seconds from 1 to 100:\n",
    "\n",
    "```for i in {1..100}; do echo $i; sleep 1; done;```\n",
    "\n",
    "3. Detach and reattach few seconds later to notice that the counter went on without you and that you can retrieve portion of the history of the portion you have missed."
   ]
  },
  {
   "cell_type": "markdown",
   "metadata": {},
   "source": [
    "That's it for this small tutorial on Screen !"
   ]
  },
  {
   "cell_type": "markdown",
   "metadata": {},
   "source": [
    "<br /><div style=\"text-align: right\"> [Next section →](./ack_res.ipynb) </div>"
   ]
  }
 ],
 "metadata": {
  "kernelspec": {
   "display_name": "Bash",
   "language": "bash",
   "name": "bash"
  },
  "language_info": {
   "codemirror_mode": "shell",
   "file_extension": ".sh",
   "mimetype": "text/x-sh",
   "name": "bash"
  }
 },
 "nbformat": 4,
 "nbformat_minor": 4
}
