{
  "nbformat": 4,
  "nbformat_minor": 0,
  "metadata": {
    "kernelspec": {
      "display_name": "Python 3",
      "language": "python",
      "name": "python3"
    },
    "language_info": {
      "codemirror_mode": {
        "name": "ipython",
        "version": 3
      },
      "file_extension": ".py",
      "mimetype": "text/x-python",
      "name": "python",
      "nbconvert_exporter": "python",
      "pygments_lexer": "ipython3",
      "version": "3.7.4"
    },
    "colab": {
      "name": "TensorFlowFirstSteps.ipynb",
      "provenance": [],
      "collapsed_sections": [],
      "include_colab_link": true
    }
  },
  "cells": [
    {
      "cell_type": "markdown",
      "metadata": {
        "id": "view-in-github",
        "colab_type": "text"
      },
      "source": [
        "<a href=\"https://colab.research.google.com/github/CosmoStat/Tutorials/blob/tensorflow-tutorial/TensorFlowFirstSteps.ipynb\" target=\"_parent\"><img src=\"https://colab.research.google.com/assets/colab-badge.svg\" alt=\"Open In Colab\"/></a>"
      ]
    },
    {
      "cell_type": "markdown",
      "metadata": {
        "id": "svKM0E6Nr297",
        "colab_type": "text"
      },
      "source": [
        "##### Copyright 2020 Francois Lanusse, Zaccharie Ramzi\n",
        "\n",
        "Licensed under the Apache License, Version 2.0 (the \"License\");\n"
      ]
    },
    {
      "cell_type": "markdown",
      "metadata": {
        "id": "zy3OTfZr32Xi",
        "colab_type": "text"
      },
      "source": [
        "# First steps with TensorFlow\n",
        "\n",
        "Authors: [@EiffL](https://github.com/EiffL) (Francois Lanusse), [@zaccharieramzi](https://github.com/zaccharieramzi) (Zaccharie Ramzi)"
      ]
    },
    {
      "cell_type": "markdown",
      "metadata": {
        "id": "HmF93VH7r299",
        "colab_type": "text"
      },
      "source": [
        "## Overview\n",
        "\n",
        "In this short notebook, we will review the basics of TensorFlow, how to write a computational graph, compute gradients by automatic differentiation, and perform optimization. This introduction is intended for first time TensorFlow users, and can be safely disregarded by experienced users.  \n",
        "**Note**: we only consider TensorFlow 2.x here.\n",
        "\n",
        "### Learning goals\n",
        "\n",
        "In this notebook, we will learn:\n",
        "  - Core principles of TensorFlow\n",
        "  - How to write a computational graph\n",
        "  - How to compute gradients\n",
        "  - How to perform optimization"
      ]
    },
    {
      "cell_type": "markdown",
      "metadata": {
        "id": "d4SAHsD6r29-",
        "colab_type": "text"
      },
      "source": [
        "## What is a Tensor?\n",
        "\n",
        "Let us get started with a minimal example:"
      ]
    },
    {
      "cell_type": "code",
      "metadata": {
        "id": "rUH8YXZNr29_",
        "colab_type": "code",
        "colab": {}
      },
      "source": [
        "import numpy as np\n",
        "import tensorflow as tf\n",
        "\n",
        "x = tf.zeros(shape=[8])"
      ],
      "execution_count": 0,
      "outputs": []
    },
    {
      "cell_type": "markdown",
      "metadata": {
        "id": "XTcAc_if8oqv",
        "colab_type": "text"
      },
      "source": [
        "This code is pretty much self explanatory, we have defined an object x to be an \"array\" of zeros of size 16. Let's take a closer look at this object:"
      ]
    },
    {
      "cell_type": "code",
      "metadata": {
        "id": "ArENOBukr2-K",
        "colab_type": "code",
        "colab": {
          "base_uri": "https://localhost:8080/",
          "height": 54
        },
        "outputId": "e83594dd-ddec-41b2-d6b4-c6cd76678824"
      },
      "source": [
        "x"
      ],
      "execution_count": 8,
      "outputs": [
        {
          "output_type": "execute_result",
          "data": {
            "text/plain": [
              "<tf.Tensor: shape=(8,), dtype=float32, numpy=array([0., 0., 0., 0., 0., 0., 0., 0.], dtype=float32)>"
            ]
          },
          "metadata": {
            "tags": []
          },
          "execution_count": 8
        }
      ]
    },
    {
      "cell_type": "markdown",
      "metadata": {
        "id": "dxRsCZ7U8x7A",
        "colab_type": "text"
      },
      "source": [
        "We see that this object is in fact a TensorFlow Tensor, characterized by:\n",
        "  - A shape, e.g. (8,)\n",
        "  - A type: noted as `dtype`, here by default a single precision float i.e. `float32`, but types include `int32`, `float64`, `complex64`, etc.\n",
        "\n",
        "**TODO**: explain that tensors are abstract objects, not values\n",
        "\n",
        "**TODO**: explain why float32 is default\n",
        "\n",
        "In addition, we see that this tensor has an assigned value, denoted by a numpy array, filled with zeros in this instance. \n",
        "\n",
        "**TODO**: explain that if we see a value it's because of eager execution\n"
      ]
    },
    {
      "cell_type": "markdown",
      "metadata": {
        "id": "GtdIpIvw84dv",
        "colab_type": "text"
      },
      "source": [
        "A numpy array can be converted into a TensorFlow tensor and vice-versa easily using the `tf.convert_to_tensor` function and `.numpy()` member of Tensor objects:"
      ]
    },
    {
      "cell_type": "code",
      "metadata": {
        "id": "Lt5flhoL82Gd",
        "colab_type": "code",
        "colab": {
          "base_uri": "https://localhost:8080/",
          "height": 34
        },
        "outputId": "0532c9b9-3e94-4784-99e6-73a32b9d5363"
      },
      "source": [
        "# Define a numpy array:\n",
        "x = np.array( [1., 2., 3., 4.])\n",
        "\n",
        "# Convert it into a tensor:\n",
        "a = tf.convert_to_tensor( x )\n",
        "\n",
        "# Inspect Tensor a:\n",
        "a"
      ],
      "execution_count": 9,
      "outputs": [
        {
          "output_type": "execute_result",
          "data": {
            "text/plain": [
              "<tf.Tensor: shape=(4,), dtype=float64, numpy=array([1., 2., 3., 4.])>"
            ]
          },
          "metadata": {
            "tags": []
          },
          "execution_count": 9
        }
      ]
    },
    {
      "cell_type": "code",
      "metadata": {
        "id": "5dvST2EH8158",
        "colab_type": "code",
        "colab": {
          "base_uri": "https://localhost:8080/",
          "height": 34
        },
        "outputId": "a1aebd17-da11-4ae7-8bff-eb10e3af5296"
      },
      "source": [
        "# Convert back this tensor into a numpy array\n",
        "y = a.numpy()\n",
        "\n",
        "# Inspect array y:\n",
        "y"
      ],
      "execution_count": 10,
      "outputs": [
        {
          "output_type": "execute_result",
          "data": {
            "text/plain": [
              "array([1., 2., 3., 4.])"
            ]
          },
          "metadata": {
            "tags": []
          },
          "execution_count": 10
        }
      ]
    },
    {
      "cell_type": "markdown",
      "metadata": {
        "id": "UOF7vCD44HzH",
        "colab_type": "text"
      },
      "source": [
        "## Defining computational graphs\n",
        "\n",
        "Now that we have introduced the notion of Tensors, let's learn about the Flow part :-) \n",
        "\n",
        "TensorFlow defines computations in terms of simple **operations** (`ops` for short) which can manipulate, create, or destroy tensors. These `ops`can be stringed together into a computational graph in order to perform complex operations.\n",
        "\n",
        "Let us consider a very simple computation: $y = a * x + b$  \n",
        "In the general case `y`, `a`, `y`, and `b` are all tensors, and the fundamental `ops` needed here are `add` and `multiply`. Here is how the computational graph would look like:\n",
        "```\n",
        "                              a        x\n",
        "                              \\        /\n",
        "                                mutliply\n",
        "                                  |    b         \n",
        "                                  \\   /\n",
        "                                    add\n",
        "                                    |\n",
        "                                    y\n",
        "```\n",
        "writing this computation in tensorflow is extremely simple:"
      ]
    },
    {
      "cell_type": "code",
      "metadata": {
        "id": "hdm6Cou56kxZ",
        "colab_type": "code",
        "colab": {}
      },
      "source": [
        "# Let's introduce the input tensors\n",
        "a = tf.ones(shape=(4,))\n",
        "b = tf.zeros(shape=(4,))\n",
        "x = tf.convert_to_tensor(np.array([1., 2., 3., 4.]), dtype=tf.float32)\n",
        "\n",
        "# And here we define the computation\n",
        "y = a * x + b"
      ],
      "execution_count": 0,
      "outputs": []
    },
    {
      "cell_type": "code",
      "metadata": {
        "id": "12MvgJR47ZLP",
        "colab_type": "code",
        "colab": {
          "base_uri": "https://localhost:8080/",
          "height": 34
        },
        "outputId": "aa8a15f3-09b3-43f4-c44b-0fabdfb92ce5"
      },
      "source": [
        "y"
      ],
      "execution_count": 16,
      "outputs": [
        {
          "output_type": "execute_result",
          "data": {
            "text/plain": [
              "<tf.Tensor: shape=(4,), dtype=float32, numpy=array([1., 2., 3., 4.], dtype=float32)>"
            ]
          },
          "metadata": {
            "tags": []
          },
          "execution_count": 16
        }
      ]
    },
    {
      "cell_type": "markdown",
      "metadata": {
        "id": "VHZ6wf-n9VcU",
        "colab_type": "text"
      },
      "source": [
        "Feel free to experiment with the code above, in particular, try changing the shape or dtypes of the input tensors, what happens?"
      ]
    },
    {
      "cell_type": "markdown",
      "metadata": {
        "id": "thmgEIx99xUI",
        "colab_type": "text"
      },
      "source": [
        "Because TF 2 uses eager execution, everything seems to happen at once, and it is not clear when the graph is created and executed. \n",
        "\n",
        "It is possible to define explicitly a graph that will be executed in one piece, i.e. without costly back and forth between python and GPU code using the `tf.function` decorator. Consider this example:"
      ]
    },
    {
      "cell_type": "code",
      "metadata": {
        "id": "WfBpTBfe7idQ",
        "colab_type": "code",
        "colab": {}
      },
      "source": [
        "def affine_transform(x, a, b):\n",
        "  return a * x + b"
      ],
      "execution_count": 0,
      "outputs": []
    },
    {
      "cell_type": "code",
      "metadata": {
        "id": "fEPTZaPk_jHU",
        "colab_type": "code",
        "colab": {
          "base_uri": "https://localhost:8080/",
          "height": 34
        },
        "outputId": "bc06c9b7-1577-42db-bb56-720558103f44"
      },
      "source": [
        "affine_transform(1 , 2 , 3)"
      ],
      "execution_count": 20,
      "outputs": [
        {
          "output_type": "execute_result",
          "data": {
            "text/plain": [
              "5"
            ]
          },
          "metadata": {
            "tags": []
          },
          "execution_count": 20
        }
      ]
    },
    {
      "cell_type": "markdown",
      "metadata": {
        "id": "pHLMWgHX_tx0",
        "colab_type": "text"
      },
      "source": [
        "This is pure Python code, and return a Python integer. No TensorFlow is involved here at all.\n",
        "\n",
        "Now let's add the `@tf.function` decorator and see what happens:"
      ]
    },
    {
      "cell_type": "code",
      "metadata": {
        "id": "6NYcz9Cz_nBt",
        "colab_type": "code",
        "colab": {}
      },
      "source": [
        "@tf.function\n",
        "def affine_transform(x, a, b):\n",
        "  return a * x + b"
      ],
      "execution_count": 0,
      "outputs": []
    },
    {
      "cell_type": "code",
      "metadata": {
        "id": "tGfafrHI_CIt",
        "colab_type": "code",
        "colab": {
          "base_uri": "https://localhost:8080/",
          "height": 34
        },
        "outputId": "70f7d51f-afa7-4c46-cc0d-1e430c4e79c6"
      },
      "source": [
        "affine_transform(1 , 2 , 3)"
      ],
      "execution_count": 22,
      "outputs": [
        {
          "output_type": "execute_result",
          "data": {
            "text/plain": [
              "<tf.Tensor: shape=(), dtype=int32, numpy=5>"
            ]
          },
          "metadata": {
            "tags": []
          },
          "execution_count": 22
        }
      ]
    },
    {
      "cell_type": "markdown",
      "metadata": {
        "id": "rIaAhX9X_ZXr",
        "colab_type": "text"
      },
      "source": [
        "We see that this function now returns a tensor, despite being provided pure Python integer.\n",
        "\n",
        "**TODO**: the magic of autograph"
      ]
    },
    {
      "cell_type": "markdown",
      "metadata": {
        "id": "zwExHMPaAPqU",
        "colab_type": "text"
      },
      "source": [
        "## Computing gradients\n",
        "\n",
        "The most important part of TensorFlow is automatic differentation. "
      ]
    },
    {
      "cell_type": "code",
      "metadata": {
        "id": "QH4YbizO_F43",
        "colab_type": "code",
        "colab": {}
      },
      "source": [
        ""
      ],
      "execution_count": 0,
      "outputs": []
    },
    {
      "cell_type": "markdown",
      "metadata": {
        "id": "wU3wd7cVAhCp",
        "colab_type": "text"
      },
      "source": [
        "## Optimization"
      ]
    },
    {
      "cell_type": "code",
      "metadata": {
        "id": "756480SAAiWw",
        "colab_type": "code",
        "colab": {}
      },
      "source": [
        ""
      ],
      "execution_count": 0,
      "outputs": []
    }
  ]
}