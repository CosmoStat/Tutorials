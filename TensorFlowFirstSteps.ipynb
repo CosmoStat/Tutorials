{
  "nbformat": 4,
  "nbformat_minor": 0,
  "metadata": {
    "kernelspec": {
      "display_name": "Python 3",
      "language": "python",
      "name": "python3"
    },
    "language_info": {
      "codemirror_mode": {
        "name": "ipython",
        "version": 3
      },
      "file_extension": ".py",
      "mimetype": "text/x-python",
      "name": "python",
      "nbconvert_exporter": "python",
      "pygments_lexer": "ipython3",
      "version": "3.7.4"
    },
    "colab": {
      "name": "TensorFlowFirstSteps.ipynb",
      "provenance": [],
      "include_colab_link": true
    }
  },
  "cells": [
    {
      "cell_type": "markdown",
      "metadata": {
        "id": "view-in-github",
        "colab_type": "text"
      },
      "source": [
        "<a href=\"https://colab.research.google.com/github/CosmoStat/Tutorials/blob/tensorflow-tutorial/TensorFlowFirstSteps.ipynb\" target=\"_parent\"><img src=\"https://colab.research.google.com/assets/colab-badge.svg\" alt=\"Open In Colab\"/></a>"
      ]
    },
    {
      "cell_type": "markdown",
      "metadata": {
        "id": "svKM0E6Nr297",
        "colab_type": "text"
      },
      "source": [
        "##### Copyright 2020 Francois Lanusse, Zaccharie Ramzi\n",
        "\n",
        "Licensed under the Apache License, Version 2.0 (the \"License\");"
      ]
    },
    {
      "cell_type": "markdown",
      "metadata": {
        "id": "HmF93VH7r299",
        "colab_type": "text"
      },
      "source": [
        "# First steps with TensorFlow\n",
        "\n",
        "Authors: [@EiffL](https://github.com/EiffL) (Francois Lanusse), [@zaccharieramzi](https://github.com/zaccharieramzi) (Zaccharie Ramzi)\n",
        "\n",
        "## Overview\n",
        "\n",
        "In this short notebook, we will review the basics of TensorFlow, how to write a computational graph, compute gradients by automatic differentiation, and perform optimization. This introduction is intended for first time TensorFlow users, and can be safely disregarded by experienced users.  \n",
        "Note: we only consider TensorFlow 2.x here.\n",
        "\n",
        "### Learning goals\n",
        "\n",
        "In this notebook, we will learn:\n",
        "  - Core principles of TensorFlow\n",
        "  - How to write a computational graph\n",
        "  - How to compute gradients\n",
        "  - How to perform optimization"
      ]
    },
    {
      "cell_type": "markdown",
      "metadata": {
        "id": "d4SAHsD6r29-",
        "colab_type": "text"
      },
      "source": [
        "## Importing TensorFlow  \n",
        "\n",
        "- what is a tensor,\n",
        "- how is it different than numpy\n",
        "- how to go back and forth between the two"
      ]
    },
    {
      "cell_type": "code",
      "metadata": {
        "id": "rUH8YXZNr29_",
        "colab_type": "code",
        "colab": {},
        "outputId": "10b1fb19-152c-4d76-d753-fb3313c21821"
      },
      "source": [
        "import tensorflow as tf\n",
        "import numpy as np\n",
        "\n",
        "#Checking for GPU access\n",
        "if tf.test.gpu_device_name() != '/device:GPU:0':\n",
        "  print('WARNING: GPU device not found.')\n",
        "else:\n",
        "  print('SUCCESS: Found GPU: {}'.format(tf.test.gpu_device_name()))"
      ],
      "execution_count": 0,
      "outputs": [
        {
          "output_type": "stream",
          "text": [
            "SUCCESS: Found GPU: /device:GPU:0\n"
          ],
          "name": "stdout"
        }
      ]
    },
    {
      "cell_type": "markdown",
      "metadata": {
        "id": "c0tz5WDSr2-J",
        "colab_type": "text"
      },
      "source": [
        "If the GPU fails to load, activate the GPU hardware acceleration in Runtime > Change Runtime Type"
      ]
    },
    {
      "cell_type": "code",
      "metadata": {
        "id": "ArENOBukr2-K",
        "colab_type": "code",
        "colab": {}
      },
      "source": [
        ""
      ],
      "execution_count": 0,
      "outputs": []
    }
  ]
}