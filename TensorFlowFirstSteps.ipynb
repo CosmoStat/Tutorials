{
 "cells": [
  {
   "cell_type": "markdown",
   "metadata": {},
   "source": [
    "##### Copyright 2020 Francois Lanusse, Zaccharie Ramzi\n",
    "\n",
    "Licensed under the Apache License, Version 2.0 (the \"License\");"
   ]
  },
  {
   "cell_type": "markdown",
   "metadata": {},
   "source": [
    "# First steps with TensorFlow\n",
    "\n",
    "Authors: @EiffL (Francois Lanusse), @zaccharieramzi (Zaccharie Ramzi)\n",
    "\n",
    "## Overview\n",
    "\n",
    "In this short notebook, we will review the basics of TensorFlow.\n",
    "\n",
    "### Learning goals\n",
    "\n",
    "In this notebook, we will learn:\n",
    "  - Core principles of TensorFlow\n",
    "  - How to write a computational graph\n",
    "  - How to compute gradients\n",
    "  - How to perform optimization"
   ]
  },
  {
   "cell_type": "markdown",
   "metadata": {},
   "source": [
    "## Importing TensorFlow  \n",
    "\n",
    "- what is a tensor,\n",
    "- how is it different than numpy\n",
    "- how to go back and forth between the two"
   ]
  },
  {
   "cell_type": "code",
   "execution_count": 5,
   "metadata": {},
   "outputs": [
    {
     "name": "stdout",
     "output_type": "stream",
     "text": [
      "SUCCESS: Found GPU: /device:GPU:0\n"
     ]
    }
   ],
   "source": [
    "import tensorflow as tf\n",
    "import numpy as np\n",
    "\n",
    "#Checking for GPU access\n",
    "if tf.test.gpu_device_name() != '/device:GPU:0':\n",
    "  print('WARNING: GPU device not found.')\n",
    "else:\n",
    "  print('SUCCESS: Found GPU: {}'.format(tf.test.gpu_device_name()))"
   ]
  },
  {
   "cell_type": "markdown",
   "metadata": {},
   "source": [
    "If the GPU fails to load, activate the GPU hardware acceleration in Runtime > Change Runtime Type"
   ]
  },
  {
   "cell_type": "code",
   "execution_count": null,
   "metadata": {},
   "outputs": [],
   "source": []
  }
 ],
 "metadata": {
  "kernelspec": {
   "display_name": "Python 3",
   "language": "python",
   "name": "python3"
  },
  "language_info": {
   "codemirror_mode": {
    "name": "ipython",
    "version": 3
   },
   "file_extension": ".py",
   "mimetype": "text/x-python",
   "name": "python",
   "nbconvert_exporter": "python",
   "pygments_lexer": "ipython3",
   "version": "3.7.4"
  }
 },
 "nbformat": 4,
 "nbformat_minor": 2
}
