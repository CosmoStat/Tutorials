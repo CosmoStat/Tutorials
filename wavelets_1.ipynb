{
 "cells": [
  {
   "cell_type": "markdown",
   "metadata": {},
   "source": [
    "# Introduction to Wavelets\n",
    "\n",
    "---\n",
    "\n",
    "> Author: <font color='#f78c40'>Samuel Farrens</font>    \n",
    "> Year: 2018  \n",
    "> Email: [samuel.farrens@cea.fr](mailto:samuel.farrens@cea.fr)  \n",
    "> Website: <a href=\"https://sfarrens.github.io\" target=\"_blank\">https://sfarrens.github.io</a>\n",
    "\n",
    "---\n",
    "\n",
    "## Contents\n",
    " \n",
    "1. [Set-Up](#Set-Up)\n",
    "1. [Introduction](#Introduction)\n",
    " * [Objective](#Objective)\n",
    " * [Wavelets](#Wavelets)\n",
    "1. [Stationary vs Non-Stationary Signals](#Stationary-vs-Non-Stationary-Signals)\n",
    " * [Stationary Signal](#Stationary-Signal)\n",
    " * [Non-Stationary Signal](#Non-Stationary-Signal)\n",
    "1. [Windowed Fourier Transform](#Windowed-Fourier-Transform)\n",
    " * [Uncertainty Principle](#Uncertainty-Principle)\n",
    " * [Gabor Transform](#Gabor-Transform)\n",
    "1. [Wavelets](#Wavelets)\n",
    " * [Multiresolution Analysis](#Multiresolution-Analysis)\n",
    " * [Wavelet Types](#Wavelet-Types)\n",
    " * [Continuous Wavelet Transform](#Continuous-Wavelet-Transform)\n",
    " * [Discrete Wavelet Transform](#Discrete-Wavelet-Transform)\n",
    " * [Undecimated Wavelet Transform](#Undecimated-Wavelet-Transform)\n",
    " * [Starlet Transform](#Starlet-Transform)"
   ]
  },
  {
   "cell_type": "markdown",
   "metadata": {},
   "source": [
    "---\n",
    "\n",
    "## Set-Up\n",
    "\n",
    "Here we will import a couple of packages that will be needed throughout the notebook. \n",
    "\n",
    "Users new to Jupyter notebooks should note that cells are executed by pressing <kbd>SHIFT</kbd>+<kbd>ENTER</kbd> (&#x21E7;+ &#x23ce;). See <a href=\"https://jupyter-notebook.readthedocs.io/en/stable/\" target_=\"blanck\">here</a> for more details."
   ]
  },
  {
   "cell_type": "code",
   "execution_count": null,
   "metadata": {},
   "outputs": [],
   "source": [
    "# Tell Jupyter to display plots in this notebook.\n",
    "%matplotlib inline\n",
    "\n",
    "# Import the numpy package with the alias np.\n",
    "import numpy as np           \n",
    "\n",
    "# Import the pyplot package from matplotlib with the alias plt.\n",
    "import matplotlib.pyplot as plt  \n",
    "from matplotlib.pylab import rcParams\n",
    "\n",
    "# Import some tools from scipy.\n",
    "from scipy.signal import gausspulse\n",
    "\n",
    "# Import time package.\n",
    "import time\n",
    "\n",
    "# Import interaction module\n",
    "from ipywidgets.widgets import *\n",
    "\n",
    "# Import tutorial functions.\n",
    "from sparsity_tutorial import plot\n",
    "from sparsity_tutorial.functions import *"
   ]
  },
  {
   "cell_type": "code",
   "execution_count": null,
   "metadata": {},
   "outputs": [],
   "source": [
    "# For Python 2 users only\n",
    "# Uncomment the following commands\n",
    "\n",
    "# Import Python 3 behaviour\n",
    "# from __future__ import print_function"
   ]
  },
  {
   "cell_type": "code",
   "execution_count": null,
   "metadata": {},
   "outputs": [],
   "source": [
    "# Set size of figures.\n",
    "rcParams['figure.figsize'] = (14.0, 8.0)"
   ]
  },
  {
   "cell_type": "markdown",
   "metadata": {},
   "source": [
    "---\n",
    "\n",
    "## Introduction\n",
    "\n",
    "### <font color='blue'>Objective</font>\n",
    "\n",
    "The objective of this notebook is to provide a very brief introduction to the concept of wavelets with some practical demonstrations of how they work. To keep things as simple and open a possible I have avoided using packages such as <a href=\"https://pywavelets.readthedocs.io/en/latest/\" target_=\"blank\">PyWavelets</a> or <a href=\"https://cea-cosmic.github.io/pysap/\" target_=\"blank\">PySAP</a> to implement the wavelet transforms. However, after undertanding the basics, these packages can be very useful for practical applications. \n",
    "\n",
    "### <font color='blue'>Wavelets</font>\n",
    "\n",
    "Wavelets are a class functions that are localised in both time and frequency (or space and scale). In this notebook we will explore some of the basic properties of wavelets and how they compare to other time-frequency analysis techniques.\n"
   ]
  },
  {
   "cell_type": "markdown",
   "metadata": {},
   "source": [
    "---\n",
    "\n",
    "## Stationary vs Non-Stationary Signals\n",
    "\n",
    "### <font color='blue'>Stationary Signal</font>\n",
    "\n",
    "Stationary signals are those that do not change over time. Take for example the following singal that combines 3 sine waves with different frequencies."
   ]
  },
  {
   "cell_type": "code",
   "execution_count": null,
   "metadata": {},
   "outputs": [],
   "source": [
    "# Set a range of t values\n",
    "t = np.arange(0, 1, 0.001)\n",
    "\n",
    "# Define a stationary signal\n",
    "x_s = np.sin(2 * np.pi * 5 * t) + np.sin(2 * np.pi * 10 * t) + np.sin(2 * np.pi * 20 * t)\n",
    "x_s /= np.max(x_s)\n",
    "\n",
    "# Plot the signal\n",
    "plot.line_plot(x_s, ylim=(-1.1, 1.1), xlab='$t$', title='Stationary Signal')"
   ]
  },
  {
   "cell_type": "markdown",
   "metadata": {},
   "source": [
    "We can clearly see that the pattern produced by the combination of frequencies is periodic. By taking the Fourier transform of this signal we can easily pinpoint the exact frequencies it contains."
   ]
  },
  {
   "cell_type": "code",
   "execution_count": null,
   "metadata": {},
   "outputs": [],
   "source": [
    "# Calculate the FFT of the signal\n",
    "x_s_fft = np.abs(fft(x_s))[x_s.size // 2:x_s.size // 2 + 50]\n",
    "x_s_fft /= np.max(x_s_fft)\n",
    "\n",
    "# Plot the signal\n",
    "plot.stem_plot(x_s_fft, ylim=(0.0, 1.1), imag=False, xlab=r'$\\omega$', title='Stationary Signal Frequencies')"
   ]
  },
  {
   "cell_type": "markdown",
   "metadata": {},
   "source": [
    "As expected we get three peaks at the corresponding frequencies. In fact, the frequency information tells us everything we need to know about this signal.\n",
    "\n",
    "### <font color='blue'>Non-Stationary Signal</font>\n",
    "\n",
    "Non-stationary signals are those that change over time. Let's combine the same 3 sine waves at different time intervals and see what happens."
   ]
  },
  {
   "cell_type": "code",
   "execution_count": null,
   "metadata": {},
   "outputs": [],
   "source": [
    "# Define a non-stationary signal\n",
    "x_n = np.hstack((np.sin(2 * np.pi * 5 * t[:400]), np.sin(2 * np.pi * 10 * t[400:800]), \n",
    "                 np.sin(2 * np.pi * 20 * t[800:])))\n",
    "x_n /= np.max(x_n)\n",
    "\n",
    "# Plot the signal\n",
    "plot.line_plot(x_n, ylim=(-1.1, 1.1), xlab='$t$', title='Non-Stationary Signal')"
   ]
  },
  {
   "cell_type": "markdown",
   "metadata": {},
   "source": [
    "In this example the signal is clearly not periodic. As before we can take the Fourier transform to examine the frequency content."
   ]
  },
  {
   "cell_type": "code",
   "execution_count": null,
   "metadata": {},
   "outputs": [],
   "source": [
    "# Calculate the FFT of the signal\n",
    "x_n_fft = np.abs(fft(x_n))[x_n.size // 2:x_n.size // 2 + 50]\n",
    "x_n_fft /= np.max(x_n_fft)\n",
    "\n",
    "# Plot the signal\n",
    "plot.stem_plot(x_n_fft, ylim=(0.0, 1.1), imag=False, xlab=r'$\\omega$', title='Non-Stationary Signal Frequencies')"
   ]
  },
  {
   "cell_type": "markdown",
   "metadata": {},
   "source": [
    "The frequency space is not as clean as that of the stationary signal due to the sudden change of frequencies, but we can still see wider peaks centred on our original frequencies. For a more realistic signal we would expect something more like this for both cases. The main difference for the non-stationary signal is that even though we can work out the frequencies we don't know when they occurred."
   ]
  },
  {
   "cell_type": "markdown",
   "metadata": {},
   "source": [
    "---\n",
    "\n",
    "## Windowed Fourier Transform\n",
    "\n",
    "Most discrete signals, such as the non-stationary time series in the cell below, can be decomposed into a sum of sine and cosine wave with the Discrete Fourier Transform (DFT).\n",
    "\n",
    "$$F[n] = \\frac{1}{N} \\sum_{k=0}^{N-1} f[k] e^{2\\pi i kn/N}$$\n",
    "\n",
    "$$f[k] = \\sum_{n=0}^{N-1} F[n] e^{-2\\pi i kn/N}$$\n",
    "\n",
    "where $N$ denotes the number of data points, and $n$ and $k$ represent the ordinals in the time and frequency domains respectively."
   ]
  },
  {
   "cell_type": "code",
   "execution_count": null,
   "metadata": {},
   "outputs": [],
   "source": [
    "# Define the signal\n",
    "n = np.linspace(0, 10, 1000, endpoint=False)\n",
    "Fn = (3 * np.sin(2 * n) + 0.5 * np.tanh(0.5 * (n - 3)) * 0.28 * np.exp(-(-n - 4) **2) + 1.5 * np.sin(5 * n) + \n",
    "      4 * np.cos(3 * (n - 6) **2)) / 10 + (n / 20) **3\n",
    "Fn /= max(abs(Fn))\n",
    "\n",
    "# Get the Fourier transform of the signal\n",
    "fk = np.abs(fft(Fn))\n",
    "\n",
    "# Display signals\n",
    "plot.wave_plot(n, Fn, fk)"
   ]
  },
  {
   "cell_type": "markdown",
   "metadata": {},
   "source": [
    "In doing so, however, we lose all of the time information. We can try instead looking at the frequency information contained within smaller time intervals."
   ]
  },
  {
   "cell_type": "code",
   "execution_count": null,
   "metadata": {
    "scrolled": false
   },
   "outputs": [],
   "source": [
    "# Slice the signal into four pieces\n",
    "slices = [slice(i * n.size // 4, (i + 1) * n.size // 4) for i in range(4)]\n",
    "n_slices = [n[slice_i] for slice_i in slices]\n",
    "Fn_slices = [Fn[slice_i] for slice_i in slices]\n",
    "fk_slices = [np.abs(fft(Fn_i)) for Fn_i in Fn_slices]\n",
    "\n",
    "# Display signals\n",
    "plot.wave_plot2(n_slices, Fn_slices, fk_slices)"
   ]
  },
  {
   "cell_type": "markdown",
   "metadata": {},
   "source": [
    "Notice that we can identify different frequencies of the signal contained within the time intervals, but what happens if we make the windows smaller?"
   ]
  },
  {
   "cell_type": "markdown",
   "metadata": {
    "collapsed": true
   },
   "source": [
    "### <font color='blue'>Uncertainty Principle</font>\n",
    "\n",
    "The **Heisenberg–Gabor limit**, \n",
    "\n",
    "$$\\Delta t \\Delta \\omega \\geq \\frac{1}{2},$$\n",
    "\n",
    "an interpretation of the <a href=\"https://en.wikipedia.org/wiki/Uncertainty_principle#Signal_processing\" target_=\"blank\">uncertainty principle</a>, shows that it is not possible to simultaneously sharply localize a signal in both the time domain and frequency domain.\n",
    "\n",
    "In other words we will always need to make a trade-off between time information and frequency information, but what is the best way to preserve as much of both as possible?\n",
    "\n",
    "### <font color='blue'>Gabor Transform</font>\n",
    "\n",
    "The <a href=\"https://en.wikipedia.org/wiki/Gabor_transform\" target_=\"blank\">Gabor transform</a> or Short Time Fourier Transform (STFT) can be represented as:\n",
    "\n",
    "$$f[m, k] = \\sum_{n=0}^{N-1} F[n] g[n - m] e^{-2\\pi i kn/N}$$\n",
    "\n",
    "where $g$ is a Gaussian filter localised at $m$\n",
    "\n",
    "$$g[n] = e^{-\\alpha n^2}$$\n",
    "\n",
    "Effectively this performs a Fourier transform of the signal within a filter that is centred at $m$. "
   ]
  },
  {
   "cell_type": "code",
   "execution_count": null,
   "metadata": {},
   "outputs": [],
   "source": [
    "# Define a Gaussian filter.\n",
    "def get_filter(m, a):\n",
    "\n",
    "    return np.exp(-a * (n - m) ** 2)\n",
    "    return np.exp(-a * (n - m) ** 2)\n",
    "\n",
    "@interact(pos=(0, 10, 0.5), alpha=(0, 20, 1))\n",
    "def show_filter(pos=0.0, alpha=1):\n",
    "    \n",
    "    # Get localised filter.\n",
    "    g = get_filter(pos, alpha)\n",
    "\n",
    "    # Filter the signal.\n",
    "    Fg = Fn * g\n",
    "\n",
    "    # Get frequencies of filtered signal.\n",
    "    Fg_fft = np.abs(fft(Fg))\n",
    "\n",
    "    # Display.\n",
    "    plot.filter_plot(n, Fn, g, Fg, Fg_fft)"
   ]
  },
  {
   "cell_type": "markdown",
   "metadata": {},
   "source": [
    "Try adjusting the filter width and position and see what happens.\n",
    "\n",
    "Now, to try to preserve some frequency and time information simultaneously we will slide the filter across the whole signal and store the frequencies at a set of time intervals."
   ]
  },
  {
   "cell_type": "code",
   "execution_count": null,
   "metadata": {
    "scrolled": false
   },
   "outputs": [],
   "source": [
    "@interact(alpha=(0, 100, 10))\n",
    "def show_tf(alpha=0):\n",
    "\n",
    "    # Set a range of time intervals.\n",
    "    intervals = np.arange(0, 10, 0.01)\n",
    "\n",
    "    # Get the FFT of the filtered signal at each interval.\n",
    "    w = []\n",
    "    for m in intervals:\n",
    "        w.append(np.abs(fft(Fn * get_filter(m, alpha)))[400:600])\n",
    "    w = np.array(w).T\n",
    "\n",
    "    # Display\n",
    "    plot.tf_plot(w)"
   ]
  },
  {
   "cell_type": "markdown",
   "metadata": {},
   "source": [
    "Try changing the filter width to see what happens.\n",
    "\n",
    "While we retain information in both time and frequency domains we also lose resolution. When the window is small we have good time localisation but we can only capture high frequencies. On the other hand, when the window is large we can capture lower frequencies but we have very poor time localisation."
   ]
  },
  {
   "cell_type": "markdown",
   "metadata": {},
   "source": [
    "---\n",
    "\n",
    "## Wavelets"
   ]
  },
  {
   "cell_type": "markdown",
   "metadata": {},
   "source": [
    "### <font color='blue'>Multiresolution Analysis</font>\n",
    "\n",
    "One way we can improve upon the Gabor method is using *Multiresolution Analysis (MRA)*. Rather than choosing a fixed window size that will be more localised in either the time or frequency domain, we can instead do the following:\n",
    "\n",
    "* Start with a small window and extract the highest frequency content of the signal with very good time localisation.\n",
    "* Then remove these frequencies from the signal.\n",
    "* Then by enlarging the window by a small amount we can pick out the highest remaining frequencies, which will be lower than those removed, with slighly worse time localisation.\n",
    "* This process can be continued until the window contains the entire signal which will only retain the lowest frequencies with virtually no time localisation."
   ]
  },
  {
   "cell_type": "markdown",
   "metadata": {},
   "source": [
    "### <font color='blue'>Wavelet Types</font>\n",
    "\n",
    "The wavelet function is often represented as follows:\n",
    "\n",
    "$$\\psi_{a,b}(t) = \\frac{1}{\\sqrt{a}} \\psi \\Bigg(\\frac{t-b}{a} \\Bigg)$$\n",
    "\n",
    "where $a$ defines the wavelet scale and $b$ the shift. $\\psi$ is known as the *Mother Wavelet* which must posses certain properties (see *e.g.* [Wikipedia](https://en.wikipedia.org/wiki/Wavelet#Mother_wavelet) for more details). Many different wavelets exist, but we will only discuss a few basic ones.\n",
    "\n",
    "A couple of essential properties we want any given wavelet to have are the following:\n",
    "\n",
    "* $\\int_{-\\infty}^\\infty\\psi(t)dt = 0$ (*i.e.* equal positive and negative area under the curve)\n",
    "* $\\|\\psi(t)\\|_2^2 = 1$\n",
    "* <a href=\"http://mathworld.wolfram.com/CompactSupport.html\" target_=\"blank\">Compact support</a> (*i.e.* signal does not last forever)\n"
   ]
  },
  {
   "cell_type": "markdown",
   "metadata": {},
   "source": [
    "**Haar Wavelet**\n",
    "\n",
    "The Haar wavelet (1910) is a basic step function and is defined as follows:\n",
    "\n",
    "$$\\psi(t) = \\begin{cases}1 & 0 \\leq t \\leq \\frac{1}{2} \\\\ -1 & \\frac{1}{2} \\leq t \\leq 1 \\\\ 0 & \\text{otherwise}\\end{cases}$$\n"
   ]
  },
  {
   "cell_type": "code",
   "execution_count": null,
   "metadata": {},
   "outputs": [],
   "source": [
    "# Function to define Haar wavelet.\n",
    "def haar_wt(t):\n",
    "\n",
    "    t = np.array([t])\n",
    "    x = np.zeros(t.size)\n",
    "    x += np.array((0.0 <= t)[0] * (t < 0.5)[0])\n",
    "    x -= np.array((0.5 <= t)[0] * (t < 1.0)[0])\n",
    "    return x"
   ]
  },
  {
   "cell_type": "markdown",
   "metadata": {},
   "source": [
    "**Mexican Hat Wavelet**\n",
    "\n",
    "The Mexican Hat (or Ricker) wavelet  is defined as follows:\n",
    "\n",
    "$$\\psi(t) = \\frac{2}{\\sqrt{3\\sigma}\\pi^{\\frac{1}{4}}}\\Bigg(1-\\frac{t^2}{\\sigma^2}\\Bigg)e^{-\\frac{t^2}{2\\sigma^2}}$$\n"
   ]
  },
  {
   "cell_type": "code",
   "execution_count": null,
   "metadata": {
    "scrolled": false
   },
   "outputs": [],
   "source": [
    "# Function to define mexican hat wavelet.\n",
    "def mex_hat_wt(t, sigma=1.0):\n",
    "\n",
    "    return (2.0 * np.pi ** -0.25 * (3.0 * sigma) ** -0.5 *\n",
    "            (1 - (t / sigma) ** 2) * np.exp(-t ** 2 / (2.0 * sigma ** 2)))\n",
    "\n",
    "# Display\n",
    "plot.wavelet_plot(n, Fn, haar_wt(2 * n / np.max(n) - 0.5), mex_hat_wt(n / np.max(n) - 0.5, 0.1))"
   ]
  },
  {
   "cell_type": "markdown",
   "metadata": {},
   "source": [
    "In general one aims to use the wavelet most suited to the problem at hand."
   ]
  },
  {
   "cell_type": "markdown",
   "metadata": {},
   "source": [
    "### <font color='blue'>Continuous Wavelet Transform</font>\n",
    "\n",
    "The <a href=\"https://en.wikipedia.org/wiki/Continuous_wavelet_transform\" target_=\"blank\">Continuous Wavelet Transform (CWT)</a> is used to decompose a signal into wavelets and can be defined as follows:\n",
    "\n",
    "$$F_{\\omega}(a, b) = \\frac{1}{|a|^{0.5}}\\int_{-\\infty}^\\infty f(t)\\bar{\\psi}\\Bigg(\\frac{t-b}{a}\\Bigg)dt$$\n",
    "\n",
    "We can use this to transform our signal into the wavelet domain using the Mexican Hat wavelet."
   ]
  },
  {
   "cell_type": "code",
   "execution_count": null,
   "metadata": {},
   "outputs": [],
   "source": [
    "# Function to get wavelet scales\n",
    "def get_scales(a_min, a_max):\n",
    "    \n",
    "    J = 12.0 * np.log2(a_max / a_min)\n",
    "    del_a = (a_max - a_min) / (J - 1)\n",
    "    return a_min + del_a * np.arange(J)\n",
    "\n",
    "# Function to perform continuous wavelet transform\n",
    "def cwt(data, wavelet, scales):\n",
    "    \n",
    "    x_ft = fft(data)\n",
    "    t = np.arange(data.size) - (data.size - 1.0) / 2\n",
    "    out = []\n",
    "    for scale in scales:\n",
    "        w_ft = fft(wavelet(t / scale) * scale ** -0.5)\n",
    "        out.append(ifft(w_ft * x_ft))\n",
    "    return np.abs(out)\n",
    "\n",
    "# Set wavelet scales\n",
    "scales = get_scales(1, 100)\n",
    "\n",
    "# Wavetlet transform the signal\n",
    "y = cwt(Fn, mex_hat_wt, scales)\n",
    "\n",
    "# Display\n",
    "plot.cwt_plot(y)"
   ]
  },
  {
   "cell_type": "markdown",
   "metadata": {},
   "source": [
    "As you can see we are able to preserve detailed information regarding the scale and translation of the signal.\n",
    "\n",
    "### <font color='blue'>Discrete Wavelet Transform</font>\n",
    "\n",
    "The <a href=\"https://en.wikipedia.org/wiki/Discrete_wavelet_transform\" target_=\"blank\">Discrete Wavelet Transform (DWT)</a> uses a discrete set of wavelet scales and translations that removes certain redundancies introduced in the CWT.\n",
    "\n",
    "$$c_{j+1, l} = \\sum h_{k-2l}c_{j,k} = (\\bar{h}*c_j)_{2l}$$\n",
    "$$w_{j+1, l} = \\sum g_{k-2l}c_{j,k} = (\\bar{g}*c_j)_{2l}$$\n",
    "\n",
    "This corresponds to consecutively convolving the signal with high and low pass filters with a downsampling at each level. \n",
    "\n",
    "<img src=\"images/dwt.png\" width=\"800\">\n",
    "\n",
    "### <font color='blue'>Undecimated Wavelet Transform</font>\n",
    "\n",
    "The <a href=\"https://en.wikipedia.org/wiki/Stationary_wavelet_transform\" target_=\"blank\">Undecimated Wavelet Transform (UWT)</a> (also called the Stationary Wavelet Transform) removes the downsampling factor to compensate for the translation-invariance in the DWT at the cost of added redundancy.   \n",
    "\n",
    "<img src=\"images/uwt.png\" width=\"600\">\n",
    "\n",
    "### <font color='blue'>Starlet Transform</font>\n",
    "\n",
    "Other specialised wavelet transforms exist such as the **Starlet** (or Isotropic Undecimated Wavelet Transform) that\n",
    "is particularly well suited to astrophysical images, which are generally isotropic (read more <a href=\"http://jstarck.free.fr/Chapter_Starlet2011.pdf\" target_=\"blank\">here</a>).\n",
    "\n",
    "The starlet transform decomposes an image, $\\mathbf{x}$, into a coarse scale, $\\mathbf{x}^J$, and wavelet scales, $(\\boldsymbol{w}^j)_{1\\leq j \\leq J}$,\n",
    "\n",
    "$$\\mathbf{x} = \\mathbf{x}^{J} + \\sum_{j=1}^J \\boldsymbol{w}^{j}$$\n",
    "\n",
    "where the first level ($j = 1$) corresponds to the highest frequencies (*i.e.* the finest scale).\n",
    "\n",
    "Have a look at the following starlet decomposition of Venus."
   ]
  },
  {
   "cell_type": "code",
   "execution_count": null,
   "metadata": {},
   "outputs": [],
   "source": [
    "# Load starlet decomposition of Venus.\n",
    "venus_scales = np.load('data/venus.npy')\n",
    "\n",
    "# Display the scales.\n",
    "plot.starlet_display(venus_scales)"
   ]
  },
  {
   "cell_type": "markdown",
   "metadata": {},
   "source": [
    "Reconstruct the image of venus from the decomposition.\n",
    "\n",
    "<br>\n",
    "<font color='red'>EXERCISE CELL</font>"
   ]
  },
  {
   "cell_type": "code",
   "execution_count": null,
   "metadata": {},
   "outputs": [],
   "source": [
    "##############################\n",
    "# YOU NEED TO EDIT THIS CELL #\n",
    "##############################\n",
    "\n",
    "# Reconstruct the image of Venus.\n",
    "venus = None\n",
    "\n",
    "# Display the reconstruction.\n",
    "if venus is not None:\n",
    "    plot.display(venus, title='Venus', cmap='magma')"
   ]
  },
  {
   "cell_type": "markdown",
   "metadata": {},
   "source": [
    "This makes the starlet a useful transform for obtaining sparse representations of astronomical images."
   ]
  },
  {
   "cell_type": "markdown",
   "metadata": {},
   "source": [
    "---\n",
    "\n",
    "## <font color='orange'>Hints</font>\n",
    "\n",
    "** Starlet Transform **\n",
    "\n",
    "1. You have just about reached the *sum(m)it* of this tutorial."
   ]
  }
 ],
 "metadata": {
  "kernelspec": {
   "display_name": "Python 3",
   "language": "python",
   "name": "python3"
  },
  "language_info": {
   "codemirror_mode": {
    "name": "ipython",
    "version": 3
   },
   "file_extension": ".py",
   "mimetype": "text/x-python",
   "name": "python",
   "nbconvert_exporter": "python",
   "pygments_lexer": "ipython3",
   "version": "3.7.2"
  }
 },
 "nbformat": 4,
 "nbformat_minor": 1
}
