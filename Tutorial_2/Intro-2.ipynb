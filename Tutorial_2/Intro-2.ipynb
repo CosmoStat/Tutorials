{
 "cells": [
  {
   "cell_type": "markdown",
   "metadata": {},
   "source": [
    "# Introduction to Python \n",
    "## Tutorial 2: Intermediate and Advanced Topics\n",
    "\n",
    "by <a href=\"http://www.cosmostat.org/people/sfarrens\" target=\"_blank\">Samuel Farrens</a> and <a href=\"http://www.cosmostat.org/people/santiago-casas\" target=\"_blank\">Santiago Casas</a>\n",
    "- 16/07/2019 first version\n",
    "\n",
    "![](https://www.python.org/static/community_logos/python-logo.png)\n",
    "\n",
    "## Contents\n",
    "\n",
    "1. [Pythonic Thinking](./Pythonic.ipynb)\n",
    "\n",
    "1. [Numpy](./Numpy-Intro.ipynb)\n",
    "\n",
    "1. [Pandas](./Pandas-Intro.ipynb)\n",
    "\n",
    "1. [Scipy-Cosmo](./Scipy-Cosmo.ipynb)\n",
    "\n",
    "1. [The Anatomy of a Python Class: Part I](./Classes_I.ipynb)\n",
    "\n",
    "1. [The Anatomy of a Python Class: Part II](./Classes_II.ipynb)\n",
    "\n",
    "1. [Anwers to Exercises](./Answers-to-exercises-2.ipynb)"
   ]
  }
 ],
 "metadata": {
  "kernelspec": {
   "display_name": "Python 3",
   "language": "python",
   "name": "python3"
  },
  "language_info": {
   "codemirror_mode": {
    "name": "ipython",
    "version": 3
   },
   "file_extension": ".py",
   "mimetype": "text/x-python",
   "name": "python",
   "nbconvert_exporter": "python",
   "pygments_lexer": "ipython3",
   "version": "3.7.3"
  }
 },
 "nbformat": 4,
 "nbformat_minor": 1
}
