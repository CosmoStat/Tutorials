{
 "cells": [
  {
   "cell_type": "markdown",
   "metadata": {},
   "source": [
    "# 5 Answers to Exercises\n",
    "\n",
    "---\n",
    "\n",
    "> Author: <font color='#f78c40'>Samuel Farrens</font>    \n",
    "> Year: 2017  \n",
    "> Email: [samuel.farrens@gmail.com](mailto:samuel.farrens@gmail.com)  \n",
    "> Website: <a href=\"https://sfarrens.github.io\" target=\"_blank\">https://sfarrens.github.io</a>\n",
    "\n",
    "---\n",
    "\n",
    "This notebook contains some example answers to the exercises.\n",
    "\n",
    "---\n",
    "\n",
    "## Contents\n",
    "\n",
    "1. [Native Python](#Native-Python)\n",
    " * [Execise 1.1](#Exercise-1.1)\n",
    " * [Execise 1.2](#Exercise-1.2)\n",
    " * [Execise 1.3](#Exercise-1.3)\n",
    "1. [Numpy](#Numpy)\n",
    " * [Execise 2.1](#Exercise-2.1)\n",
    " * [Execise 2.2](#Exercise-2.2)\n",
    "1. [Matplotlib](#Matplotlib)\n",
    " * [Execise 3.1](#Exercise-3.1)\n",
    " * [Execise 3.2](#Exercise-3.2)\n",
    "1. [Other Packages](#Other-Packages)\n",
    " * [Exercise 4.1](#Exercise-4.1)\n",
    " * [Exercise 4.2](#Exercise-4.2) \n",
    "\n",
    "---\n",
    "\n",
    "## Native Python\n",
    "\n",
    "### Exercise 1.1\n",
    "\n",
    "The equation $F = \\frac{Gm_1m_2}{r^2}$ can be implemented as follows"
   ]
  },
  {
   "cell_type": "code",
   "execution_count": null,
   "metadata": {},
   "outputs": [],
   "source": [
    "def force(m1, m2, r):\n",
    "    \"\"\"Grvaitational Force\n",
    "    \n",
    "    Function to calculate the gravitational attraction between two bodies.\n",
    "    \n",
    "    \"\"\"\n",
    "    \n",
    "    return 6.674e-11 * m1 * m2 / r ** 2"
   ]
  },
  {
   "cell_type": "markdown",
   "metadata": {},
   "source": [
    "and the force between the Earth and the Moon is given by"
   ]
  },
  {
   "cell_type": "code",
   "execution_count": null,
   "metadata": {},
   "outputs": [],
   "source": [
    "print(force(5.9742e24, 7.36e22, 384402 * 1e3), 'N')"
   ]
  },
  {
   "cell_type": "markdown",
   "metadata": {},
   "source": [
    "### Exercise 1.2\n",
    "\n",
    "The variance of the sample $x = [2, 4, 4, 4, 5, 5, 7, 9]$ can be calculated as follows"
   ]
  },
  {
   "cell_type": "code",
   "execution_count": null,
   "metadata": {},
   "outputs": [],
   "source": [
    "# Define the list of values \n",
    "x = [2, 4, 4, 4, 5, 5, 7, 9]\n",
    "\n",
    "# Calculate the mean value of x\n",
    "mean = sum(x) / len(x)\n",
    "\n",
    "# Calculate the square differences between each value and the mean\n",
    "square_diff = [(i - mean) **2 for i in x]\n",
    "\n",
    "# Calculate the variance\n",
    "variance = sum(square_diff) / len(x)\n",
    "\n",
    "print('variance =', variance)"
   ]
  },
  {
   "cell_type": "markdown",
   "metadata": {},
   "source": [
    "You can check if the value of the variance is in $x$ and count how many times it occurs as follows"
   ]
  },
  {
   "cell_type": "code",
   "execution_count": null,
   "metadata": {},
   "outputs": [],
   "source": [
    "print('The variance value is in x:', variance in x)\n",
    "print('The variance value occurs', x.count(variance), 'times in x.')"
   ]
  },
  {
   "cell_type": "markdown",
   "metadata": {},
   "source": [
    "### Exercise 1.3\n",
    "\n",
    "You can write a class to convert between degrees and radians as follows"
   ]
  },
  {
   "cell_type": "code",
   "execution_count": null,
   "metadata": {},
   "outputs": [],
   "source": [
    "class angleConverter(object):\n",
    "    \"\"\"Angle Converter Class\n",
    "    \n",
    "    This class converts angles between degrees and radians.\n",
    "    \n",
    "    \"\"\"\n",
    "    \n",
    "    def __init__(self):\n",
    "        \n",
    "        self.pi = 3.14159\n",
    "        \n",
    "    def deg2rad(self, angle):\n",
    "        \"\"\"Convert input angle from degrees to radians\n",
    "\n",
    "        \"\"\"\n",
    "        \n",
    "        return angle * self.pi / 180.0\n",
    "    \n",
    "    def rad2deg(self, angle):\n",
    "        \"\"\"Convert input angle from radians to degrees\n",
    "\n",
    "        \"\"\"\n",
    "        \n",
    "        return angle * 180.0 / self.pi"
   ]
  },
  {
   "cell_type": "markdown",
   "metadata": {},
   "source": [
    "and you can implement the class on the angles as follows"
   ]
  },
  {
   "cell_type": "code",
   "execution_count": null,
   "metadata": {},
   "outputs": [],
   "source": [
    "# Define an instance of the class\n",
    "ac = angleConverter()\n",
    "\n",
    "# Use the class methods\n",
    "print('45 deg is', ac.deg2rad(45), 'radians')\n",
    "print('30 deg is', ac.deg2rad(30), 'radians')\n",
    "print('135 deg is', ac.deg2rad(135), 'radians')\n",
    "print('pi radians is', ac.rad2deg(ac.pi), 'degrees')\n",
    "print('2pi/3 radians is', ac.rad2deg(2 * ac.pi / 3), 'degrees')\n",
    "print('5pi/6 radians is', ac.rad2deg(5 * ac.pi / 6), 'degrees')"
   ]
  },
  {
   "cell_type": "markdown",
   "metadata": {
    "collapsed": true
   },
   "source": [
    "---\n",
    "\n",
    "## Numpy\n",
    "\n",
    "### Exercise 2.1\n",
    "\n",
    "You can read in the file and determine the standard deviation of the distances of the stars with spectral type M as follows"
   ]
  },
  {
   "cell_type": "code",
   "execution_count": null,
   "metadata": {},
   "outputs": [],
   "source": [
    "# Import the numpy package\n",
    "import numpy as np\n",
    "\n",
    "# Read the ASCII file\n",
    "data = np.genfromtxt('materials/nearest_stars.txt', names=True, dtype=None, delimiter=',')\n",
    "\n",
    "# Calculate the standard deviation of the M type stars\n",
    "print('The standard deviation is', data[data['Spectral_Type'] == 'M']['Distance'].std())"
   ]
  },
  {
   "cell_type": "markdown",
   "metadata": {},
   "source": [
    "### Exercise 2.2\n",
    "\n",
    "You can generate the array of random floats and calculate the mean $l_1$-norm for each 4x4 matrix as follows"
   ]
  },
  {
   "cell_type": "code",
   "execution_count": null,
   "metadata": {},
   "outputs": [],
   "source": [
    "# Import the numpy package\n",
    "import numpy as np\n",
    "\n",
    "# Set a random seed of 8\n",
    "np.random.seed(8)\n",
    "\n",
    "# Generate an array of random floats\n",
    "x = np.random.ranf((3, 4, 4))\n",
    "\n",
    "# Calculate the mean l1-norm of each 4x4 matrix\n",
    "print('The mean l1-norms are', np.linalg.norm(x, ord=1, axis=(1, 2)))"
   ]
  },
  {
   "cell_type": "markdown",
   "metadata": {},
   "source": [
    "---\n",
    "\n",
    "## Matplotlib\n",
    "\n",
    "### Exercise 3.1\n",
    "\n",
    "You can generate an array of Gaussian distributed random numbers and plot a histogram as follows"
   ]
  },
  {
   "cell_type": "code",
   "execution_count": null,
   "metadata": {},
   "outputs": [],
   "source": [
    "# display plot in notebook\n",
    "%matplotlib inline\n",
    "\n",
    "# import matplotlib\n",
    "import matplotlib.pyplot as plt\n",
    "\n",
    "# generate the Gaussian random numbers\n",
    "x = np.random.randn(1000)\n",
    "\n",
    "# set the plot size\n",
    "plt.figure(figsize=(8, 6))\n",
    "\n",
    "# plot the histogram\n",
    "plt.hist(x, bins=50)\n",
    "plt.title('Gaussian distributed random numbers')\n",
    "\n",
    "# display the plot\n",
    "plt.show()"
   ]
  },
  {
   "cell_type": "markdown",
   "metadata": {},
   "source": [
    "### Exercise 3.2\n",
    "\n",
    "You can read the file and plot the earnings vs the ratings as follows"
   ]
  },
  {
   "cell_type": "code",
   "execution_count": null,
   "metadata": {},
   "outputs": [],
   "source": [
    "# display plot in notebook\n",
    "%matplotlib inline\n",
    "\n",
    "# import matplotlib\n",
    "import matplotlib.pyplot as plt\n",
    "\n",
    "# read the data from the text file\n",
    "data = np.genfromtxt('materials/marvel_movies.txt', names=True, dtype=None, delimiter=',')\n",
    "\n",
    "# set the plot size\n",
    "plt.figure(figsize=(8, 6))\n",
    "\n",
    "# plot the rating as function of the earnings\n",
    "plt.plot(data['Earnings'], data['Rating'], 'm^')\n",
    "plt.xlabel('Earnings in $', fontsize=20)\n",
    "plt.ylabel('Rating', fontsize=20)\n",
    "plt.title('MCU Movies', fontsize=20)\n",
    "plt.xscale('log')\n",
    "\n",
    "# display the plot\n",
    "plt.show()"
   ]
  },
  {
   "cell_type": "markdown",
   "metadata": {},
   "source": [
    "### Exercise 3.3\n",
    "\n",
    "You can generate the chequered image as follows"
   ]
  },
  {
   "cell_type": "code",
   "execution_count": null,
   "metadata": {},
   "outputs": [],
   "source": [
    "# display plot in notebook\n",
    "%matplotlib inline\n",
    "\n",
    "# import matplotlib\n",
    "import matplotlib.pyplot as plt\n",
    "\n",
    "# generate an 8x8 array of ones\n",
    "x = np.ones((8, 8))\n",
    "\n",
    "# set alternate elements to 0\n",
    "x[::2, ::2] = 0\n",
    "x[1::2, 1::2] = 0\n",
    "\n",
    "# set the plot size\n",
    "plt.figure(figsize=(8, 6))\n",
    "\n",
    "# plot the image\n",
    "plt.imshow(x, interpolation='none', cmap='bone')\n",
    "\n",
    "# display the plot\n",
    "plt.show()"
   ]
  },
  {
   "cell_type": "markdown",
   "metadata": {},
   "source": [
    "---\n",
    "\n",
    "## Other Packages\n",
    "\n",
    "\n",
    "### Exercise 4.1"
   ]
  },
  {
   "cell_type": "code",
   "execution_count": null,
   "metadata": {},
   "outputs": [],
   "source": [
    "# import the necessary packages\n",
    "%matplotlib inline\n",
    "import matplotlib.pyplot as plt\n",
    "from scipy import fftpack\n",
    "from scipy.misc import ascent\n",
    "from scipy.ndimage import gaussian_filter\n",
    "from astropy.convolution import convolve_fft\n",
    "\n",
    "# set the input image\n",
    "image = ascent()\n",
    "\n",
    "# set the Gaussian kernel\n",
    "kernel = np.zeros(image.shape)\n",
    "kernel[tuple(np.array(kernel.shape) // 2)] = 1\n",
    "kernel = gaussian_filter(kernel, 10)\n",
    "\n",
    "# define the convolution function\n",
    "def convolve(x, y):\n",
    "    \"\"\"Convolve\n",
    "    \n",
    "    This method returns the convolution of x with y.\n",
    "    \n",
    "    \"\"\"\n",
    "    \n",
    "    return np.real(fftpack.fftshift(fftpack.ifftn(fftpack.fftn(x) * fftpack.fftn(y))))\n",
    "\n",
    "# convolve the image with the kernel\n",
    "convolved_image = convolve(image, kernel)\n",
    "\n",
    "# convolve the image with the kernel using astropy\n",
    "convolved_image_astropy = convolve_fft(image, kernel, boundary='wrap')\n",
    "\n",
    "# display the images\n",
    "plt.figure(figsize=(16, 6))\n",
    "plt.subplot(131)\n",
    "plt.imshow(image, cmap='gray')\n",
    "plt.title('Original Image')\n",
    "plt.subplot(132)\n",
    "plt.imshow(convolved_image, cmap='gray')\n",
    "plt.title('My Convolved Image')\n",
    "plt.subplot(133)\n",
    "plt.imshow(convolved_image_astropy, cmap='gray')\n",
    "plt.title('Astropy Convolved Image')\n",
    "plt.show()"
   ]
  },
  {
   "cell_type": "markdown",
   "metadata": {},
   "source": [
    "### Exercise 4.2"
   ]
  },
  {
   "cell_type": "code",
   "execution_count": null,
   "metadata": {},
   "outputs": [],
   "source": [
    "# define the deconvolution function\n",
    "def deconvolve(x, y):\n",
    "    \"\"\"Deconvolve\n",
    "    \n",
    "    This method returns the deconvolution of x by y.\n",
    "    \n",
    "    \"\"\"\n",
    "        \n",
    "    return np.real(fftpack.fftshift(fftpack.ifftn(fftpack.fftn(x) / fftpack.fftn(y))))\n",
    "\n",
    "# deconvolve the blurry image\n",
    "deconvolved_image = deconvolve(convolved_image, kernel)\n",
    "\n",
    "# display the images\n",
    "plt.figure(figsize=(16, 6))\n",
    "plt.subplot(121)\n",
    "plt.title('Original Image')\n",
    "plt.imshow(image, cmap='gray')\n",
    "plt.subplot(122)\n",
    "plt.imshow(deconvolved_image, cmap='gray')\n",
    "plt.title('Deconvolved Image')\n",
    "plt.show()"
   ]
  },
  {
   "cell_type": "code",
   "execution_count": null,
   "metadata": {},
   "outputs": [],
   "source": []
  }
 ],
 "metadata": {
  "kernelspec": {
   "display_name": "Python 3",
   "language": "python",
   "name": "python3"
  },
  "language_info": {
   "codemirror_mode": {
    "name": "ipython",
    "version": 3
   },
   "file_extension": ".py",
   "mimetype": "text/x-python",
   "name": "python",
   "nbconvert_exporter": "python",
   "pygments_lexer": "ipython3",
   "version": "3.7.2"
  }
 },
 "nbformat": 4,
 "nbformat_minor": 1
}
