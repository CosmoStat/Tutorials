{
 "cells": [
  {
   "cell_type": "markdown",
   "metadata": {},
   "source": [
    "# 4 Other Packages\n",
    "\n",
    "---\n",
    "\n",
    "> Author: <font color='#f78c40'>Samuel Farrens</font>    \n",
    "> Year: 2017  \n",
    "> Email: [samuel.farrens@gmail.com](mailto:samuel.farrens@gmail.com)  \n",
    "> Website: <a href=\"https://sfarrens.github.io\" target=\"_blank\">https://sfarrens.github.io</a>\n",
    "\n",
    "---\n",
    "\n",
    "Now that you have mastered the basics of Python and the essential packages you can begin to explore some of the other packages that are available. Here I will briefly introduce a few that I use often.\n",
    "\n",
    "---\n",
    "\n",
    "## Contents\n",
    "\n",
    "1. [Installation](#Installation)\n",
    "1. [Scipy](#Scipy)\n",
    " * [Fourier Transforms](#Fourier-Transforms)\n",
    " * [SVD](#SVD)\n",
    "1. [Astropy](#Astropy)\n",
    " * [FITS Files](#FITS-Files)\n",
    " * [Convolution](#Convolution)\n",
    "1. [Exercises](#Exercises)\n",
    " * [Exercise 4.1](#Exercise-4.1)\n",
    " * [Exercise 4.2](#Exercise-4.2)\n",
    " \n",
    "---\n",
    "\n",
    "## Installation\n",
    "\n",
    "To install the packages discussed in this notebook simply run the following commands in a terminal\n",
    "\n",
    "```bash\n",
    "\n",
    "$ pip install scipy\n",
    "$ pip install astropy\n",
    "\n",
    "```\n",
    "---\n",
    "\n",
    "## Scipy\n",
    "\n",
    "<a href=\"https://www.scipy.org/\" target=\"_blank\">Scipy</a> is an open source package for scientific computing that contains a collection of useful algorithms and tools. Scipy overlaps with some Numpy modules. Scipy, however, tends to be a bit more comprehensive in certain areas.\n",
    "\n",
    "### Fourier Transforms\n",
    "\n",
    "The **`fftpack`** module in scipy (<a href=\"https://docs.scipy.org/doc/scipy/reference/fftpack.html\" target=\"_blank\">scipy.fftpack</a>) contains virtually all the tools you will need for working in Fourier space. \n",
    "\n",
    "You can import the package as follows"
   ]
  },
  {
   "cell_type": "code",
   "execution_count": null,
   "metadata": {},
   "outputs": [],
   "source": [
    "from scipy import fftpack"
   ]
  },
  {
   "cell_type": "markdown",
   "metadata": {},
   "source": [
    "and since it is easier to understand these operations visually, we can also import matplotlib."
   ]
  },
  {
   "cell_type": "code",
   "execution_count": null,
   "metadata": {},
   "outputs": [],
   "source": [
    "%matplotlib inline\n",
    "import numpy as np\n",
    "import matplotlib.pyplot as plt\n",
    "from matplotlib.image import imread"
   ]
  },
  {
   "cell_type": "markdown",
   "metadata": {},
   "source": [
    "We can start with a simple sine curve time series."
   ]
  },
  {
   "cell_type": "code",
   "execution_count": null,
   "metadata": {},
   "outputs": [],
   "source": [
    "# set the signal properties\n",
    "sample_rate = 150.0\n",
    "signal_freq = 5\n",
    "\n",
    "# generate a range of time values\n",
    "t = np.arange(0, 1, 1 / sample_rate)\n",
    "\n",
    "# calculate the sin curve\n",
    "y = np.sin(2 * np.pi * signal_freq * t)\n",
    "\n",
    "# plot the curve\n",
    "plt.figure(figsize=(8, 6))\n",
    "plt.plot(t, y, 'b-')\n",
    "plt.ylim(-1.2, 1.2)\n",
    "plt.xlabel('$t$', fontsize=20)\n",
    "plt.ylabel('$y(t)$', fontsize=20)\n",
    "plt.show()"
   ]
  },
  {
   "cell_type": "markdown",
   "metadata": {},
   "source": [
    "Now we can use the command **`fft()`** to transform the data."
   ]
  },
  {
   "cell_type": "code",
   "execution_count": null,
   "metadata": {},
   "outputs": [],
   "source": [
    "# define the frequency range\n",
    "frq = (np.arange(y.size) * sample_rate / y.size)[:int(y.size / 2)]\n",
    "\n",
    "# calculate the FFT of the sine curve\n",
    "abs_y = np.abs((fftpack.fft(y) / y.size)[:frq.size])\n",
    "\n",
    "# display the FFT data\n",
    "plt.figure(figsize=(8, 6))\n",
    "plt.plot(frq, abs_y, 'b-')\n",
    "plt.ylim(0, 0.6)\n",
    "plt.xlabel('$\\omega$', fontsize=20)\n",
    "plt.ylabel('$|y(\\omega)|$', fontsize=20)\n",
    "plt.show()"
   ]
  },
  {
   "cell_type": "markdown",
   "metadata": {},
   "source": [
    "### SVD\n",
    "\n",
    "Singular Value Decomposition can be performed using the **`svd()`** command in the **`linalg`** module.\n",
    "\n",
    "> If you have not already done so, you will need to download the [Materials](https://minhaskamal.github.io/DownGit/#/home?url=https://github.com/sfarrens/notebooks/tree/master/Python/materials) directory and unzip it.  \n",
    "> You can use the following command in a terminal:  \n",
    "> ``` bash\n",
    "> $ unzip materials.zip\n",
    "> ```  \n",
    "> **<font color='red'>NOTE:</font>** you need to place the `Materials` folder in the same directory as this notebook.\n"
   ]
  },
  {
   "cell_type": "code",
   "execution_count": null,
   "metadata": {},
   "outputs": [],
   "source": [
    "# import the linalg module\n",
    "from scipy import linalg\n",
    "\n",
    "# read in an image\n",
    "x = imread('materials/r2d2.jpg')[:, :, 0]\n",
    "\n",
    "# calculate the svd\n",
    "u, s, v = linalg.svd(x)\n",
    "\n",
    "# keep only singular values >= 1.0\n",
    "s_new = s * (np.abs(s) >= 1.0)\n",
    "\n",
    "# reconstruct the image with thresholded singular values\n",
    "s_new = linalg.diagsvd(s_new, *x.shape)\n",
    "x_new = np.dot(u, np.dot(s_new, v))\n",
    "\n",
    "# dsiplay the two images\n",
    "plt.figure(figsize=(10, 8))\n",
    "plt.subplot(121)\n",
    "plt.imshow(x, interpolation='none', cmap='gray')\n",
    "plt.title('Original Image')\n",
    "plt.subplot(122)\n",
    "plt.imshow(x_new, interpolation='none', cmap='gray')\n",
    "plt.title('Reconstructed Image')\n",
    "plt.show()"
   ]
  },
  {
   "cell_type": "markdown",
   "metadata": {},
   "source": [
    "In this example the **`diagsvd()`** command diagonalises and reshapes the array of singular values."
   ]
  },
  {
   "cell_type": "markdown",
   "metadata": {},
   "source": [
    "---\n",
    "\n",
    "## Astropy\n",
    "\n",
    "<a href=\"http://www.astropy.org/\" target=\"_blank\">Astropy</a> is a package that contains tools designed for the analysis of astronomical data.\n",
    "\n",
    "### FITS Files\n",
    "\n",
    "One of the most useful modules in Astropy is **`io.fits`** (<a href=\"http://docs.astropy.org/en/stable/io/fits/\" target=\"_blank\">astropy.io.fits</a>), which handles the reading and writing FITS binary files.\n",
    "\n",
    "You can import the module as follows"
   ]
  },
  {
   "cell_type": "code",
   "execution_count": null,
   "metadata": {},
   "outputs": [],
   "source": [
    "from astropy.io import fits"
   ]
  },
  {
   "cell_type": "markdown",
   "metadata": {},
   "source": [
    "and use it to read a fits image as follows"
   ]
  },
  {
   "cell_type": "code",
   "execution_count": null,
   "metadata": {},
   "outputs": [],
   "source": [
    "# read image data from FITS file\n",
    "x = fits.getdata('materials/r2d2.fits')\n",
    "\n",
    "# Display the image\n",
    "plt.figure(figsize=(6, 6))\n",
    "plt.imshow(x)\n",
    "plt.show()"
   ]
  },
  {
   "cell_type": "markdown",
   "metadata": {},
   "source": [
    "You can write image data to a new file as follows"
   ]
  },
  {
   "cell_type": "code",
   "execution_count": null,
   "metadata": {},
   "outputs": [],
   "source": [
    "# generate an array of random numbers\n",
    "x = np.random.ranf((10, 10))\n",
    "\n",
    "# save array to a FITS file\n",
    "fits.PrimaryHDU(x).writeto('materials/random_data.fits')"
   ]
  },
  {
   "cell_type": "markdown",
   "metadata": {},
   "source": [
    "### Convolution\n",
    "\n",
    "You can convolve vectors or matrices using the **`convolve_fft()`** command in the **`convolution`** module (<a href=\"http://docs.astropy.org/en/stable/convolution/\" target=\"_blank\">astropy.convoluion</a>)."
   ]
  },
  {
   "cell_type": "code",
   "execution_count": null,
   "metadata": {},
   "outputs": [],
   "source": [
    "# read in image from scipy.misc\n",
    "from scipy.misc import face\n",
    "\n",
    "# import Gaussian filter function\n",
    "from scipy.ndimage import gaussian_filter\n",
    "\n",
    "# import astropy methods\n",
    "from astropy.convolution import convolve_fft\n",
    "\n",
    "# set the image as a 2D array\n",
    "image = face()[:, :, 0]\n",
    "\n",
    "# create a 2D Gaussian kernel with sigma=0.5\n",
    "kernel = np.zeros(image.shape)\n",
    "kernel[tuple(np.array(kernel.shape) // 2)] = 1\n",
    "kernel = gaussian_filter(kernel, 20)\n",
    "\n",
    "# convolve the image by the kernel\n",
    "convolved_image = convolve_fft(image, kernel, boundary='wrap')\n",
    "\n",
    "# display the images\n",
    "plt.figure(figsize=(16, 6))\n",
    "plt.subplot(131)\n",
    "plt.imshow(image, cmap='gray')\n",
    "plt.subplot(132)\n",
    "plt.imshow(kernel)\n",
    "plt.subplot(133)\n",
    "plt.imshow(convolved_image, cmap='gray')\n",
    "plt.show()\n"
   ]
  },
  {
   "cell_type": "markdown",
   "metadata": {},
   "source": [
    "---\n",
    "\n",
    "## Exercises\n",
    "\n",
    "### Exercise 4.1\n",
    "\n",
    "Write your own convolution function and compare its performance to the astroy module. Your function should:\n",
    "\n",
    "- Take an image and a convolution kernel as inputs\n",
    "- Output a convolved image\n",
    "- The convolution kernel should be a Gaussian with sufficiently large $\\sigma$ to visually distort the image\n",
    "- You can use the scipy **`fftpack`** module\n",
    "- You can use any input image you like\n",
    "\n",
    "Recall the *convolution theorem*\n",
    "\n",
    "$$\\mathcal{F}\\{x * y\\} = \\mathcal{F}\\{x\\} \\cdot \\mathcal{F}\\{y\\}$$\n",
    "\n",
    "where $\\mathcal{F}\\{x\\}$ denotes the Fourier transform of $x$, and $x * y$ denotes the convolution of $x$ and $y$.\n",
    "\n",
    "Display your input image next to the convolved image you obtain with your function and with Astropy. Make sure you title your images.\n",
    "\n",
    "**Hints:**\n",
    "- Make sure the output of your function is *real*-istic. There might be a Numpy function to help with this.\n",
    "- If your convolved image is blurry but some pices are in the wrong places, you made need to check the fftpack documentation for the correct way to *shift* the data."
   ]
  },
  {
   "cell_type": "code",
   "execution_count": null,
   "metadata": {},
   "outputs": [],
   "source": [
    "# Implement your code here"
   ]
  },
  {
   "cell_type": "markdown",
   "metadata": {},
   "source": [
    "### Exercise 4.2\n",
    "\n",
    "Now write a deconvolution function (*i.e.* a function that removes the kernel distortion from the convolved image) to recover the original image. Your function should:\n",
    "\n",
    "- Take a distorted image and convolution kernel as inputs\n",
    "- Output a deconvolved image\n",
    "- You can use the scipy **`fftpack`** module\n",
    "- Your input image should be the output of Exercise 4.1\n",
    "\n",
    "Display your deconvolved image next to the original image. Make sure you title your images.\n",
    "\n",
    "**Hints:**\n",
    "- If your deconvolution function is not working make sure the noise level set in the previous exercise is not too high."
   ]
  },
  {
   "cell_type": "code",
   "execution_count": null,
   "metadata": {},
   "outputs": [],
   "source": [
    "# Implement your code here"
   ]
  },
  {
   "cell_type": "markdown",
   "metadata": {},
   "source": [
    "You can find some example answers to the exercises [here](./Answers-to-exercises.ipynb).\n",
    "\n",
    "---\n",
    "\n",
    "> **Continue to [next topic](./Answers-to-exercises.ipynb)**"
   ]
  }
 ],
 "metadata": {
  "kernelspec": {
   "display_name": "Python 3",
   "language": "python",
   "name": "python3"
  },
  "language_info": {
   "codemirror_mode": {
    "name": "ipython",
    "version": 3
   },
   "file_extension": ".py",
   "mimetype": "text/x-python",
   "name": "python",
   "nbconvert_exporter": "python",
   "pygments_lexer": "ipython3",
   "version": "3.7.2"
  }
 },
 "nbformat": 4,
 "nbformat_minor": 1
}
