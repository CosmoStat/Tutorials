{
 "cells": [
  {
   "cell_type": "markdown",
   "metadata": {},
   "source": [
    "# Introduction to Python\n",
    "## Tutorial 1: Beginner Topics\n",
    "\n",
    "by <a href=\"http://www.cosmostat.org/people/sfarrens\" target=\"_blank\">Samuel Farrens</a>\n",
    "- 2019 python 3 revision\n",
    "- 2017 first version\n",
    "\n",
    "![](https://www.python.org/static/community_logos/python-logo.png)\n",
    "\n",
    "## Contents\n",
    "\n",
    "1. [Native Python](./Native.ipynb)\n",
    "\n",
    "1. [Basic Numpy](./Numpy.ipynb)\n",
    "\n",
    "1. [Matplotlib](./Matplotlib.ipynb)\n",
    "\n",
    "1. [Other Packages](./Other-Packages.ipynb)\n",
    "\n",
    "1. [Anwers to Exercises](./Answers-to-exercises.ipynb)"
   ]
  }
 ],
 "metadata": {
  "kernelspec": {
   "display_name": "Python 3",
   "language": "python",
   "name": "python3"
  },
  "language_info": {
   "codemirror_mode": {
    "name": "ipython",
    "version": 3
   },
   "file_extension": ".py",
   "mimetype": "text/x-python",
   "name": "python",
   "nbconvert_exporter": "python",
   "pygments_lexer": "ipython3",
   "version": "3.7.3"
  }
 },
 "nbformat": 4,
 "nbformat_minor": 1
}
