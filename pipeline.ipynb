{
 "cells": [
  {
   "cell_type": "markdown",
   "metadata": {},
   "source": [
    "## Pipeline, Pipes and Filters\n",
    "\n",
    "Commands seen previously are quiet elementary. They are usually combined together to make more complex operations. Run the following code cells and try to guess what the last cell does."
   ]
  },
  {
   "cell_type": "code",
   "execution_count": null,
   "metadata": {},
   "outputs": [],
   "source": [
    "cd data/molecules\n",
    "ls -lh ."
   ]
  },
  {
   "cell_type": "code",
   "execution_count": null,
   "metadata": {},
   "outputs": [],
   "source": [
    "ls -lhS ."
   ]
  },
  {
   "cell_type": "code",
   "execution_count": null,
   "metadata": {},
   "outputs": [],
   "source": [
    "ls -lhS . | head -n 2"
   ]
  },
  {
   "cell_type": "code",
   "execution_count": null,
   "metadata": {},
   "outputs": [],
   "source": [
    "ls -lhS . | head -n 2 | tail -n 1"
   ]
  },
  {
   "cell_type": "code",
   "execution_count": null,
   "metadata": {},
   "outputs": [],
   "source": [
    "ls -lhS . | head -n 2 | tail -n 1 | cut -d ' ' -f 9"
   ]
  },
  {
   "cell_type": "markdown",
   "metadata": {},
   "source": [
    "Answer: The last ouput is the name of the item that has the biggest size. \n",
    "Details: \n",
    "\n",
    "- `ls -lhS .` prints the items by order of size of the current working directory.\n",
    "\n",
    "- `head -n 2 file` prints the first two lines of `file`.\n",
    "\n",
    "- `tail -n 1 file` prints the last line of `file`.\n",
    "\n",
    "- `cut -d ' ' -f 14` splits the line using ` `(empty space) as delimeter and prints the fourteenth field.\n",
    "\n",
    "Using bash jargon:\n",
    "- `ls -lhS . | head -n 2 | tail -n 1 | cut -d ' ' -f 14` is a <b>pipeline</b>.\n",
    "- each command is a <b>filter</b>.\n",
    "- `|` is a pipe that connects the output of the command on the left to the output of the command on the right.\n",
    "\n",
    "### Exercise\n",
    "\n",
    "The following code cell shows how to sort files by the number of words they contain. Modify the code cell to make a pipeline that outputs the file with the most words in `biggest.txt`.\n",
    "\n",
    "> When a command is a list of arguments instead of one, it returns a list of outputs.\n",
    "\n",
    "> `cmd2 $(cmd1 arg)` is a command substitution. In other words, it uses the output of `cmd1 arg` as arguments for `cmd2`. The main differences between substitution and piping, is that when using pipes the first output is given in input as a file whereas with substitution it is given as arguments.\n",
    "\n",
    "> Using `sort file` without any option sorts the lines by alpanumerical order, e.g. 1, 5, 110, 21 --> 1, 110, 21, 5.\n",
    "\n",
    "> Using `sort -n file` with the `-n` option sorts the lines by numerical order, e.g. 1, 5, 110, 21 --> 1, 5, 21, 110.\n",
    "\n",
    "> `wc file` returns the number of lines, words and characters in the file (the command is the acronym of word count).\n",
    "\n",
    "> `wc -w file` returns only the number of words in the file."
   ]
  },
  {
   "cell_type": "code",
   "execution_count": null,
   "metadata": {},
   "outputs": [],
   "source": [
    "wc -w $(ls .) | sort -n"
   ]
  },
  {
   "cell_type": "markdown",
   "metadata": {},
   "source": [
    "<span style=\"color:blue\">Double click for answer</span>\n",
    "\n",
    "<script>\n",
    "Answer: wc -w $(ls .) | sort -n | tail -n 2 | head -n 1 > biggest.txt\n",
    "</script>"
   ]
  },
  {
   "cell_type": "markdown",
   "metadata": {},
   "source": [
    "<br /><div style=\"text-align: right\"> [Next section →](./scripting.ipynb) </div>"
   ]
  }
 ],
 "metadata": {
  "kernelspec": {
   "display_name": "Bash",
   "language": "bash",
   "name": "bash"
  },
  "language_info": {
   "codemirror_mode": "shell",
   "file_extension": ".sh",
   "mimetype": "text/x-sh",
   "name": "bash"
  }
 },
 "nbformat": 4,
 "nbformat_minor": 4
}
