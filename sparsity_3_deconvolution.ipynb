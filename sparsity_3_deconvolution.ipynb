{
 "cells": [
  {
   "cell_type": "markdown",
   "metadata": {},
   "source": [
    "# Introduction to Sparsity III: Deconvolution\n",
    "\n",
    "---\n",
    "\n",
    "> Author: <font color='#f78c40'>Samuel Farrens</font>    \n",
    "> Year: 2018  \n",
    "> Email: [samuel.farrens@cea.fr](mailto:samuel.farrens@cea.fr)  \n",
    "> Website: <a href=\"https://sfarrens.github.io\" target=\"_blank\">https://sfarrens.github.io</a>\n",
    "\n",
    "---\n",
    "\n",
    "## Contents\n",
    "\n",
    "1. [Set-Up](#Set-Up)\n",
    "1. [Introduction](#Introduction)\n",
    " * [Objective](#Objective)\n",
    " * [Point Spread Function](#Point-Spread-Function)\n",
    "1. [Deconvolution Example](#Deconvolution-Example)\n",
    " * [Convolution](#Convolution)\n",
    " * [Deconvolution](#Deconvolution)\n",
    " * [Convolution with Noise](#Convolution-with-Noise)\n",
    " * [Deconvolution with Noise](#Deconvolution-with-Noise)\n",
    "1. [Ill-Posed Problem](#Ill-Posed-Problem)\n",
    " * [Ill-Conditioned Problem](#Ill-Conditioned-Problem)\n",
    "1. [Deconvolution Exercise](#Deconvolution-Exercise)\n",
    " * [Deconvolution with Sparsity](#Deconvolution-with-Sparsity)"
   ]
  },
  {
   "cell_type": "markdown",
   "metadata": {},
   "source": [
    "---\n",
    "\n",
    "## Set-Up\n",
    "\n",
    "Here we will import a couple of packages that will be needed throughout the notebook. \n",
    "\n",
    "Users new to Jupyter notebooks should note that cells are executed by pressing <kbd>SHIFT</kbd>+<kbd>ENTER</kbd> (&#x21E7;+ &#x23ce;). See <a href=\"https://jupyter-notebook.readthedocs.io/en/stable/\" target_=\"blanck\">here</a> for more details."
   ]
  },
  {
   "cell_type": "code",
   "execution_count": null,
   "metadata": {},
   "outputs": [],
   "source": [
    "# Tell Jupyter to display plots in this notebook.\n",
    "%matplotlib inline\n",
    "\n",
    "# Import the numpy package with the alias np.\n",
    "import numpy as np\n",
    "\n",
    "# Import tools from Scipy\n",
    "from scipy.ndimage import gaussian_filter\n",
    "from scipy.misc import face\n",
    "\n",
    "# Import function to set size of figures.\n",
    "from matplotlib.pylab import rcParams\n",
    "\n",
    "# Import interaction module.\n",
    "from ipywidgets.widgets import *\n",
    "\n",
    "# Import tutorial functions.\n",
    "from sparsity_tutorial import plot\n",
    "from sparsity_tutorial.functions import *"
   ]
  },
  {
   "cell_type": "code",
   "execution_count": null,
   "metadata": {},
   "outputs": [],
   "source": [
    "# For Python 2 users only\n",
    "# Uncomment the following commands\n",
    "\n",
    "# Import Python 3 behaviour\n",
    "# from __future__ import print_function"
   ]
  },
  {
   "cell_type": "code",
   "execution_count": null,
   "metadata": {},
   "outputs": [],
   "source": [
    "# Set size of figures.\n",
    "rcParams['figure.figsize'] = (14.0, 8.0)"
   ]
  },
  {
   "cell_type": "markdown",
   "metadata": {},
   "source": [
    "---\n",
    "\n",
    "## Introduction\n",
    "\n",
    "### <font color='blue'>Objective</font>\n",
    "\n",
    "The objective of this notebook is to demonstrate how sparsity can be used for deconvolution. A very simple image is used to simpify the implementation. More realistic applications to astrophysical images are provided in\n",
    "\n",
    "* <a href=\"https://www.aanda.org/articles/aa/abs/2017/05/aa29709-16/aa29709-16.html\" target_=\"blank\">Farrens et al. (2017)</a>\n",
    "\n",
    "### <font color='blue'>Point Spread Function</font>\n",
    "\n",
    "All optical systems are subject to imperfections that distort the images obtained. The sum of these aberrations is commonly referred to as the point spread function (PSF) or instrumental response. Removing the effects of the PSF from images of interest if a fundamental aspect of image processing, particularly in fields such as astrophysics where accurate measurments of the shapes and flux of objects has a significant impact on the science.\n",
    "\n",
    "The blurring introduced by the PSF can be modelled as a convolution of the PSF with the image. Consequently, the reverse process, deconvolution, removes this effect.\n",
    "\n",
    "In the following cell we define a function for generating a Gaussian PSF."
   ]
  },
  {
   "cell_type": "code",
   "execution_count": null,
   "metadata": {},
   "outputs": [],
   "source": [
    "# Function to generate a Gaussian PSF.\n",
    "def make_psf(shape, sigma):\n",
    "    \n",
    "    psf = np.zeros(shape)\n",
    "    psf[list(zip(np.array(psf.shape) // 2))] = 1\n",
    "    \n",
    "    return gaussian_filter(psf, sigma)\n",
    "\n",
    "plot.display(make_psf((100, 100), 10), title='PSF')"
   ]
  },
  {
   "cell_type": "markdown",
   "metadata": {},
   "source": [
    "## Deconvolution Example\n",
    "\n",
    "### <font color='blue'>Convolution</font>\n",
    "\n",
    "The <a href=\"https://en.wikipedia.org/wiki/Convolution_theorem\" target_=\"blank\">convolution theorem</a> shows that a signal $a$ can be convolved with a signal $b$ (under certain conditions) as follows\n",
    "\n",
    "$$c = a * b = \\mathcal{F}^{-1}(\\mathcal{F}(a) \\cdot \\mathcal{F}(b))$$\n",
    "\n",
    "We can implement this as follows."
   ]
  },
  {
   "cell_type": "code",
   "execution_count": null,
   "metadata": {},
   "outputs": [],
   "source": [
    "# This function convolves an image with a kernel using FFT.\n",
    "def fftconvolve(image, kernel):\n",
    "\n",
    "    x = np.fft.fftshift(np.fft.fftn(image))\n",
    "    y = np.fft.fftshift(np.fft.fftn(kernel))\n",
    "\n",
    "    return np.real(np.fft.fftshift(np.fft.ifftn(np.fft.ifftshift(x * y))))"
   ]
  },
  {
   "cell_type": "markdown",
   "metadata": {},
   "source": [
    "The following cell demonstrates what happens to an image when it is convolved with the PSF we defined."
   ]
  },
  {
   "cell_type": "code",
   "execution_count": null,
   "metadata": {},
   "outputs": [],
   "source": [
    "# Load example image\n",
    "image = face()[:700, :700, 0]\n",
    "\n",
    "# Generate a PSF\n",
    "psf_1 = make_psf(image.shape, 10)\n",
    "\n",
    "# Convolve image with PSF\n",
    "image_conv = fftconvolve(image, psf_1)\n",
    "\n",
    "# Display the original image\n",
    "plot.display(image, cmap='Greys_r', title='Original Image')\n",
    "\n",
    "# Display the convolved image\n",
    "plot.display(image_conv, cmap='Greys_r', title='Convolved Image')"
   ]
  },
  {
   "cell_type": "markdown",
   "metadata": {},
   "source": [
    "### <font color='blue'>Deconvolution</font>\n",
    "\n",
    "<a href=\"https://en.wikipedia.org/wiki/Deconvolution\" target_=\"blank\">Deconvolution</a> is the process of reversing the effects of convolution.\n",
    "\n",
    "$$a = \\mathcal{F}^{-1}\\bigg(\\frac{\\mathcal{F}(c)}{\\mathcal{F}(b)}\\bigg)$$\n",
    "\n",
    "We can implement this process as follows."
   ]
  },
  {
   "cell_type": "code",
   "execution_count": null,
   "metadata": {},
   "outputs": [],
   "source": [
    "# This function deconvolves an image with a kernel using FFT.\n",
    "def fftdeconvolve(image, kernel):\n",
    "\n",
    "    x = np.fft.fftshift(np.fft.fftn(image))\n",
    "    y = np.fft.fftshift(np.fft.fftn(kernel))\n",
    "\n",
    "    return np.real(np.fft.fftshift(np.fft.ifftn(np.fft.ifftshift(x / y))))"
   ]
  },
  {
   "cell_type": "markdown",
   "metadata": {},
   "source": [
    "Using this function we can recover our original image given that we know the PSF."
   ]
  },
  {
   "cell_type": "code",
   "execution_count": null,
   "metadata": {},
   "outputs": [],
   "source": [
    "image_deconv = fftdeconvolve(image_conv, psf_1)\n",
    "\n",
    "# Display the convolved image\n",
    "plot.display(image_deconv, cmap='Greys_r', title='Deconvolved Image')"
   ]
  },
  {
   "cell_type": "markdown",
   "metadata": {},
   "source": [
    "As you can see the all the blurring effects have been removed from the convolved image."
   ]
  },
  {
   "cell_type": "markdown",
   "metadata": {},
   "source": [
    "### <font color='blue'>Convolution with Noise</font>\n",
    "\n",
    "In practical applications all observations contain some degree of noise. We can imagine that our Raccoon was photographed with a very good instrument with only the tiniest amount of noise ($\\sigma=10^{-6}$) as follows."
   ]
  },
  {
   "cell_type": "code",
   "execution_count": null,
   "metadata": {},
   "outputs": [],
   "source": [
    "# Add Gaussian noise to convolved image\n",
    "image_conv_noise = image_conv + np.random.randn(*image_conv.shape) * 1e-6\n",
    "\n",
    "# Display the convolved image\n",
    "plot.display(image_conv_noise, cmap='Greys_r', title='Noisy Convolved Image')"
   ]
  },
  {
   "cell_type": "markdown",
   "metadata": {},
   "source": [
    "Given the amount of noise, the convolved image looks virtually the same.\n",
    "\n",
    "### <font color='blue'>Deconvolution with Noise</font>\n",
    "\n",
    "Let's see what happens when we try to recoever the original image from the noisy convolved image."
   ]
  },
  {
   "cell_type": "code",
   "execution_count": null,
   "metadata": {},
   "outputs": [],
   "source": [
    "image_deconv_noise = fftdeconvolve(image_conv_noise, psf_1)\n",
    "\n",
    "# Display the convolved image\n",
    "plot.display(image_deconv_noise, cmap='Greys_r', title='Deconvolved Image')"
   ]
  },
  {
   "cell_type": "markdown",
   "metadata": {},
   "source": [
    "The image is completely destroyed! Why?"
   ]
  },
  {
   "cell_type": "markdown",
   "metadata": {},
   "source": [
    "---\n",
    "\n",
    "## Ill-Posed Problem\n",
    "\n",
    "A problem is considered <a href=\"https://en.wikipedia.org/wiki/Well-posed_problem\" target_=\"blank\">well-posed</a> if \n",
    "\n",
    "1. a solution exists,\n",
    "2. the solution is unique,\n",
    "3. the solution's behavior changes continuously with the initial conditions.\n",
    "\n",
    "Any problem that does meet all three of this requirements is considered \"ill-posed\".\n",
    "\n",
    "### <font color='blue'>Ill-Conditioned Problem</font>\n",
    "\n",
    "A problem (or matrix) with a large <a href=\"https://en.wikipedia.org/wiki/Condition_number\" target_=\"blank\">condition number</a> is considered to be \"ill-coniditioned\". This relates to the 3rd point on our list of requirements for a well-posed problem.\n",
    "\n",
    "Take for example the following two problems\n",
    "\n",
    "$$\\begin{bmatrix} 4 \\\\ 7 \\end{bmatrix} = \\begin{bmatrix} 1 & 2 \\\\ 2 & 3 \\end{bmatrix} \\begin{bmatrix} x_1 \\\\ x_2 \\end{bmatrix}$$\n",
    "\n",
    "$$\\begin{bmatrix} 3 \\\\ 1.47 \\end{bmatrix} = \\begin{bmatrix} 1 & 2 \\\\ 0.48 & 0.99 \\end{bmatrix} \\begin{bmatrix} x_1 \\\\ x_2 \\end{bmatrix}$$\n",
    "\n",
    "Both are linear inverse problems of the form $y=Hx$, which can be implemented as follows."
   ]
  },
  {
   "cell_type": "code",
   "execution_count": null,
   "metadata": {},
   "outputs": [],
   "source": [
    "# Data for first problem\n",
    "y1 = np.array([4.0, 7.0])\n",
    "H1 = np.array([[1.0, 2.0], [2.0, 3.0]])\n",
    "\n",
    "# Data for second problem|\n",
    "y2 = np.array([3.0, 1.47])\n",
    "H2 = np.array([[1.0, 2.0], [0.48, 0.99]])"
   ]
  },
  {
   "cell_type": "markdown",
   "metadata": {},
   "source": [
    "Two solve both problems we simply need to calculate $x = H^{-1}y$ as follows."
   ]
  },
  {
   "cell_type": "code",
   "execution_count": null,
   "metadata": {},
   "outputs": [],
   "source": [
    "# Solution to the first problem\n",
    "x1 = np.dot(np.linalg.inv(H1), y1)\n",
    "print('x1 =', x1)\n",
    "\n",
    "# Solution to the second problem\n",
    "x2 = np.dot(np.linalg.inv(H2), y2)\n",
    "print('x2 =', x2)"
   ]
  },
  {
   "cell_type": "markdown",
   "metadata": {},
   "source": [
    "Now, let's see what happens if we add a small change to $y$ (e.g. mimicking the effects of noise).\n",
    "\n",
    "$$\\begin{bmatrix} 4 \\\\ 7.01 \\end{bmatrix} = \\begin{bmatrix} 1 & 2 \\\\ 2 & 3 \\end{bmatrix} \\begin{bmatrix} x_1 \\\\ x_2 \\end{bmatrix}$$\n",
    "\n",
    "$$\\begin{bmatrix} 3 \\\\ 1.48 \\end{bmatrix} = \\begin{bmatrix} 1 & 2 \\\\ 0.48 & 0.99 \\end{bmatrix} \\begin{bmatrix} x_1 \\\\ x_2 \\end{bmatrix}$$"
   ]
  },
  {
   "cell_type": "code",
   "execution_count": null,
   "metadata": {},
   "outputs": [],
   "source": [
    "# Noisy versions of y\n",
    "y1_noise = np.array([4.0, 7.01])\n",
    "y2_noise = np.array([3.0, 1.48])\n",
    "\n",
    "x1_noise = np.dot(np.linalg.inv(H1), y1_noise)\n",
    "print('x1 =', x1_noise)\n",
    "\n",
    "x2_noise = np.dot(np.linalg.inv(H2), y2_noise)\n",
    "print('x2 =', x2_noise)"
   ]
  },
  {
   "cell_type": "markdown",
   "metadata": {},
   "source": [
    "Notice that for the first problem the solution has changed only as much as the input data, while for the second problem the solution is completely different. \n",
    "\n",
    "It is clear from these results that the first problem is well-conditioned well the second is ill-conditioned. This means that the first problem can be solved analytically, even with noise, well the second cannot.\n",
    "\n",
    "We can relate this property back to our deconvolution problem, which can also be modelled as a linear inverse problem of the form\n",
    "\n",
    "$$y=Hx + n$$\n",
    "\n",
    "where $y$ is the noisy convolved image we observe, $H$ is a operator that represents convolution with the PSF, $x$ is the original image and $n$ is Gaussian random noise. As $H$ is ill-conditioned and hence the problem is ill-posed this cannot be solved analytically. This is where sparsity comes in!"
   ]
  },
  {
   "cell_type": "markdown",
   "metadata": {},
   "source": [
    "---\n",
    "\n",
    "## Deconvolution Exercise\n",
    "\n",
    "### <font color='blue'>Deconvolution with Sparsity</font>\n",
    "\n",
    "Given that we can model our observations as $y=Hx + n$, we aim to solve an optimisation problem of the form\n",
    "\n",
    "$$\\begin{aligned} & \\underset{\\alpha}{\\text{argmin}} & \\frac{1}{2}\\|y-H\\phi\\alpha\\|_2^2 + \\lambda\\|\\alpha\\|_1\\end{aligned}$$\n",
    "\n",
    "where we assume we know that our data is sparse in the dictionary $\\phi$. Notice that this is exactly the same problem we needed to solve for the CS exercises, only now $H$ is a convolution operator rather than a masking operator.\n",
    "\n",
    "### <font color='blue'>Problem</font>\n",
    "\n",
    "An observer with has obtained a very blurry and noisy image with instrument. Fortunately she is celever and knows the exact PSF of her instrument. She now provides you with her image and the PSF her instrument and asks for help in deconvoving the PSF effects.\n",
    "\n",
    "You, being an expert in sparsity and having some experience with this type of data, know that this signal is sparse in Fourier space. You also know that $\\lambda=0.003$ would be an appropriate value for this problem.\n",
    "\n",
    "**Questions and tasks**\n",
    "1. Try to deconvolve the image analytically.\n",
    "1. Does it work?\n",
    "1. What is the gradient of this problem?\n",
    "1. What is the cost function of this problem?\n",
    "1. Make a first guess for $x$.\n",
    "1. Deconvolve the image using the Forward-Backward algorithm.\n",
    "1. Display your deconvolved image $\\hat{x}$.\n",
    "1. Roughly how many iterations did it take to converge?\n",
    "1. Finally, load the file `data/cs_true_data.npy` to determine the NMSE of your solution.\n",
    "\n",
    "### <font color='blue'>Data</font>\n",
    "\n",
    "For this exercise you are given a noisy convolved observation $y$ and a PSF. Your task is to deconvolve the psf effects from the observation to recover the original image $x$. "
   ]
  },
  {
   "cell_type": "code",
   "execution_count": null,
   "metadata": {},
   "outputs": [],
   "source": [
    "# Load the observation.\n",
    "y = np.load('data/deconv_obs_data.npy')\n",
    "\n",
    "# Load the PSF.\n",
    "psf = np.load('data/deconv_psf.npy')\n",
    "\n",
    "# Display the observed image.\n",
    "plot.display(y, r'$y$')\n",
    "\n",
    "# Display the PSF.\n",
    "plot.display(psf, 'PSF')"
   ]
  },
  {
   "cell_type": "markdown",
   "metadata": {},
   "source": [
    "### <font color='blue'>Functions</font>\n",
    "\n",
    "Some functions that may be useful for this exercise are provided below."
   ]
  },
  {
   "cell_type": "code",
   "execution_count": null,
   "metadata": {},
   "outputs": [],
   "source": [
    "# H operator.\n",
    "def H(data, psf):\n",
    "    \n",
    "    return fftconvolve(data, psf)\n",
    "\n",
    "# H transpose operator.\n",
    "def Ht(data, psf):\n",
    "    \n",
    "    return fftconvolve(data, np.rot90(psf, 2))\n",
    "\n",
    "# Function that performs simple forward backward splitting.\n",
    "def forwardBackward(observation, first_guess, psf, grad, lambda_val, n_iter=300, gamma=1.0, return_cost=False):\n",
    "    \n",
    "    alpha_rec = first_guess\n",
    "    cost = []\n",
    "            \n",
    "    for i in range(n_iter):\n",
    "        \n",
    "        alpha_temp = alpha_rec - gamma * grad(observation, alpha_rec, psf)\n",
    "        alpha_rec = soft_thresh(alpha_temp, lambda_val)\n",
    "        cost.append(cost_func(observation, alpha_rec, psf, lambda_val))\n",
    "    \n",
    "    if return_cost:\n",
    "        return alpha_rec, cost\n",
    "    else:\n",
    "        return alpha_rec"
   ]
  },
  {
   "cell_type": "markdown",
   "metadata": {},
   "source": [
    "### <font color='blue'>Solutions</font>\n",
    "\n",
    "<font color='red'>EXERCISE:</font> provide your solutions in the cell(s) below."
   ]
  },
  {
   "cell_type": "code",
   "execution_count": null,
   "metadata": {},
   "outputs": [],
   "source": []
  },
  {
   "cell_type": "markdown",
   "metadata": {},
   "source": [
    "---\n",
    "\n",
    "## <font color='orange'>Hints</font>\n",
    "\n",
    "** Deconvolution Exercise **\n",
    "\n",
    "1. I wonder if the functions provided will help for defining the cost function and the gradient.\n",
    "1. Make sure you display your deconvolved image in the correct domain.\n",
    "1. If you plot your cost function it should be pretty easy to see when the algorithm converged."
   ]
  },
  {
   "cell_type": "markdown",
   "metadata": {},
   "source": [
    "[Open next notebook ->](./wavelets_1.ipynb)"
   ]
  }
 ],
 "metadata": {
  "kernelspec": {
   "display_name": "Python 3",
   "language": "python",
   "name": "python3"
  },
  "language_info": {
   "codemirror_mode": {
    "name": "ipython",
    "version": 3
   },
   "file_extension": ".py",
   "mimetype": "text/x-python",
   "name": "python",
   "nbconvert_exporter": "python",
   "pygments_lexer": "ipython3",
   "version": "3.7.2"
  }
 },
 "nbformat": 4,
 "nbformat_minor": 2
}
