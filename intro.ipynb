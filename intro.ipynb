{
 "cells": [
  {
   "cell_type": "markdown",
   "metadata": {},
   "source": [
    "# Bash and Scripting Tutorial for Researchers\n",
    "\n",
    "The goal of this tutorial is to introduce researchers to bash and scripting. It is a short tutorial that shows major concepts with use cases related to research work.\n",
    "\n",
    "---\n",
    "> Authors: <font color='#f78c40'>[Fadi Nammour](http://www.cosmostat.org/people/fadi-nammour)</font> , <font color='#f78c40'>[Julien N. Girard](https://www.cosmostat.org/people/julien-girard)</font>  \n",
    "> Year: 2020  \n",
    "> Email: [fadi.nammour@cea.fr](mailto:fadi.nammour@cea.fr), [julien.girard@cea.fr](mailto:julien.girard@cea.fr) (screen segment)\n",
    "\n",
    "## Table of Contents\n",
    "\n",
    "1. Introduction\n",
    "2. [Basics](./basics.ipynb)\n",
    "3. [Pipeline, Pipes and Filters](./pipeline.ipynb)\n",
    "4. [Bash Scripts](./scripting.ipynb)\n",
    "5. [Advanced](./screening.ipynb)\n",
    "6. [Beyond the Scope](./ack_res.ipynb)\n",
    "7. [Acknowledgements](./ack_res.ipynb)\n",
    "8. [Resources](./ack_res.ipynb)\n",
    "\n",
    "## Introduction\n",
    "\n",
    "### Why should I learn Bash and Scripting?\n",
    "\n",
    "As a researcher, storing data and handling numerous data files can sometimes be problematic: where should the files be put? How should they be named? How to make changes to a specific subset of my files?\n",
    "\n",
    "In addition, sometimes, processing files by hand can be tedious, time consuming and prone to error. This tutorial shows how bash and its scripts help automate all of these processes and give quick and simple answers to each of the previously asked questions. It also shows how to work on a distant in a more reliable way.\n",
    "\n",
    "### What is Bash?\n",
    "\n",
    "[Bash](https://en.wikipedia.org/wiki/Bash_(Unix_shell)) is an command-line interpreter for Unix-like operating systems (e.g. Linux and MacOS). In other word, it is a programming language that helps operate machines which read the code line by line.\n",
    "\n",
    "<br /><div style=\"text-align: right\"> [Next section →](./basics.ipynb) </div>\n"
   ]
  }
 ],
 "metadata": {
  "kernelspec": {
   "display_name": "Bash",
   "language": "bash",
   "name": "bash"
  },
  "language_info": {
   "codemirror_mode": "shell",
   "file_extension": ".sh",
   "mimetype": "text/x-sh",
   "name": "bash"
  }
 },
 "nbformat": 4,
 "nbformat_minor": 4
}
