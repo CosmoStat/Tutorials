{
 "cells": [
  {
   "cell_type": "markdown",
   "id": "3814beb8",
   "metadata": {},
   "source": [
    "# Importance sampling\n",
    "\n",
    "Illustrated with a specific example of importance-sampling an existing MCM chain."
   ]
  },
  {
   "cell_type": "markdown",
   "id": "d87e396b-8f4b-48ba-a88c-a71f0f338d51",
   "metadata": {},
   "source": [
    "## Monte-Carlo integration"
   ]
  },
  {
   "cell_type": "markdown",
   "id": "c6c62e88-a680-45bc-b319-e0625c5f2a24",
   "metadata": {},
   "source": [
    "An integral\n",
    "\n",
    "$$F = \\int_a^b {\\rm d} x \\, f(x) $$\n",
    "\n",
    "can be approximated by evaluating $f$ at random points, drawn from a uniform distribution\n",
    "between $a$ and $b$:\n",
    "\n",
    "$$\\int_a^b {\\rm d} x \\, f(x) \\approx \\frac{b-a} N \\sum_{i=1}^N f(x_i),$$\n",
    "\n",
    "with sample points written as\n",
    "\n",
    "$$x_i ~ \\sim U_{[a; b]}.$$"
   ]
  },
  {
   "cell_type": "markdown",
   "id": "e9ac7929-7982-4437-be1d-0a7912a69795",
   "metadata": {},
   "source": [
    "Proof:\n",
    "    \n",
    "$$E \\left[ \\frac{b-a} N \\sum_{i=1}^N f(x_i) \\right]\n",
    "= \\frac{b-a} N \\sum_{i=1}^N E \\left[ f(x_i) \\right]\n",
    "= \\frac{b-a} N \\left( N \\frac 1 {b-a} \\int_a^b {\\rm d} x \\, f(x) \\right)\n",
    "= F\n",
    "$$"
   ]
  },
  {
   "cell_type": "markdown",
   "id": "578fec40-49d4-419f-bef9-2b286af2c591",
   "metadata": {},
   "source": [
    "This is illustrated in the following example. We pick uniformly drawn random points $x_i$\n",
    "and compute the area of the rectangle between $a = -2$ and $b = 5$, which is $(b - a) f(x_i)$.\n",
    "\n",
    "An (unbiased) estimate of the grey area is the average of all rectangles, which is the above equation.\n",
    "\n",
    "<img src=\"example_MC.jpeg\" />\n",
    "(From https://towardsdatascience.com/the-basics-of-monte-carlo-integration-5fe16b40482d)"
   ]
  },
  {
   "cell_type": "markdown",
   "id": "91158d0f-0890-4208-8011-93cb6902d192",
   "metadata": {},
   "source": [
    "## Drawing from arbitrary distributions"
   ]
  },
  {
   "cell_type": "markdown",
   "id": "cce38eff-88a6-4ce1-9a83-0b6adf0466bf",
   "metadata": {},
   "source": [
    "$$F = \\int_a^b {\\rm d} x f(x) = \\int {\\rm d} y \\, p(y) f(y)$$\n",
    "\n",
    "with variable change\n",
    "\n",
    "$${\\rm d} y \\, p(y) = \\frac{{\\rm d} x}{b-a}$$,\n",
    "\n",
    "where $p$ is a normalised probability distribution $\\int {\\rm d} y \\, p(y) = 1$.\n",
    "\n",
    "This is approximated by\n",
    "\n",
    "$$F \\approx \\frac 1 N \\sum_{i=1}^N f(y_i)$$\n",
    "\n",
    "with random points $y_i$ drawn from the distribution $p$, $y \\sim p$."
   ]
  },
  {
   "cell_type": "markdown",
   "id": "fc4c50ff-8b7b-4785-b885-c4969d258f27",
   "metadata": {},
   "source": [
    "Proof:\n",
    "\n",
    "$$E \\left[ \\frac 1 N \\sum_{i=1}^N f(y_i) \\right] = \\frac 1 N \\sum_{i=1}^N E \\left[ f(y_i) \\right]\n",
    "= \\frac 1 N \\sum_{i=1}^N \\int {\\rm d} y \\, p(y) f(y)\n",
    "= \\frac 1 N N F = F\n",
    "$$"
   ]
  },
  {
   "cell_type": "markdown",
   "id": "d6631af1-dbaa-4cf3-aada-0aeb0110e703",
   "metadata": {},
   "source": [
    "## Monte-Carlo Markov chain"
   ]
  },
  {
   "cell_type": "markdown",
   "id": "b74e2ebc",
   "metadata": {},
   "source": [
    "A Monte-Carlo Markov chain of points $\\{x_i \\}_{i=1}^N$ represents, when converged, a sample under a posterior distribution $p(x) \\propto \\pi(x) L(x)$, with $\\pi$ being the prior and $L$ the likelihood function. We write as above\n",
    "\n",
    "$$x \\sim p.$$"
   ]
  },
  {
   "cell_type": "markdown",
   "id": "75142390",
   "metadata": {},
   "source": [
    "This allows us to estimate (high-dimensional) integrals of the form\n",
    "\n",
    "$$\\int {\\rm d} x \\, p(x) f(x) = \\int {\\rm d} x \\, \\pi(x) L(x) f(x).$$"
   ]
  },
  {
   "cell_type": "markdown",
   "id": "84ec49e5",
   "metadata": {},
   "source": [
    "The (unbiased) estimator is\n",
    "\n",
    "$$ \\int {\\rm d} x \\, p(x) f(x) \\approx \\frac 1 N \\sum_{i=1}^N f(x_i),$$\n",
    "\n",
    "which is just the normalised sum over the function $f$ evaluated at all chain points."
   ]
  },
  {
   "cell_type": "markdown",
   "id": "f4e53939-134f-483b-b7c9-47d5ff468468",
   "metadata": {},
   "source": [
    "For example, for the mean of a parameter we set $f(x) = x$. The mean estimated by MCMC is simply\n",
    "\n",
    "$$\\bar x \\approx \\frac 1 N \\sum_{i=1}^N x_i.$$\n",
    "\n",
    "Another example: To plot the 2D $68\\%$ credible region (contour), pixelise $p$ in 2D, sort the pixels by density (= number of sample points in each pixel), and set $f = 1$ in the first $68\\%$ of pixels, and $0$ for the remaining pixels."
   ]
  },
  {
   "cell_type": "markdown",
   "id": "06c67f01-269f-4ffb-ac4f-79195bef87fe",
   "metadata": {},
   "source": [
    "## Importance sampling"
   ]
  },
  {
   "cell_type": "markdown",
   "id": "5ab283bf",
   "metadata": {},
   "source": [
    "Importance sampling is based on the following identity\n",
    "\n",
    "$$\\int {\\rm d} x \\, p(x) f(x) = \\int {\\rm d} x \\, q(x)\\frac{p(x)}{q( x)} f(x),$$\n",
    "\n",
    "which holds if the support of the proposal distribution $q$ is not smaller than the support of $p$."
   ]
  },
  {
   "cell_type": "markdown",
   "id": "42545e20-0175-4c5d-962c-79ae7a3af804",
   "metadata": {},
   "source": [
    "This integral can be estimated with samples under $q$ instead of $p$,\n",
    "\n",
    "$$y \\sim q,$$\n",
    "\n",
    "if the samples are multiplied by the importance weights\n",
    "\n",
    "$$w_i = \\frac{p(x_i)}{q(x_i)},$$\n",
    "\n",
    "since\n",
    "\n",
    "$$ \\int {\\rm d} x \\, p(x) f(x) = \\int {\\rm d} x \\, q(x)\\frac{p(x)}{q( x)} f(x) \\approx \\frac 1 N \\sum_{i=1}^N w_i f(y_i).$$"
   ]
  },
  {
   "cell_type": "markdown",
   "id": "1c4385ad-ebf0-43bf-a937-09a7f149b7d9",
   "metadata": {},
   "source": [
    "Importance sampling can be useful if sampling under $p$ is very time-consuming of difficult, but evaluating $p$ at points $x_i$ is not. One then choses a simple proposal function $q$, e.g. a (multi-variate) normal.\n",
    "\n",
    "Importance sampling permits to separate sampling (fast; under $q$) and evaluating the original posterior (potentiall slow, but can now be done in parallel using the already sampled points $x_i$)."
   ]
  },
  {
   "cell_type": "markdown",
   "id": "ded5de23-66f3-48c5-831b-6e6f1b425cd3",
   "metadata": {},
   "source": [
    "### Importance-sampling an existing MCM chain"
   ]
  },
  {
   "cell_type": "markdown",
   "id": "01e3f214",
   "metadata": {},
   "source": [
    "A recurring case is the following. We have already run an MCMC and obtained samples $x \\sim p$ under the posterior $p(x) = \\pi(x) L(x)$.\n",
    "\n",
    "Next, we would like to get samples under a new, combined, posterior $p_{\\rm comb}(x) = \\pi(x) L(x) L_2(x)$. For example, $L$ is the CMB likelihood, $L_2$ is the one for weak lensing. We want to get the combined weak-lensing + CMB constraints.\n",
    "\n",
    "Now, instead of re-running a new chain sampling from $p_{\\rm comb}$, we can see that the integral\n",
    "\n",
    "$$\\int {\\rm d} x p_{\\rm comb} f(x) = \\int {\\rm d} x \\pi(x) L(x) L_2(x) f(x)$$\n",
    "\n",
    "has a form similar to the modified one above, if we identify\n",
    "\n",
    "$$q(x) = \\pi(x) L(x) \\quad \\mbox{and} \\quad L_2(x) = \\frac{p(x)}{q(x)}.$$"
   ]
  },
  {
   "cell_type": "markdown",
   "id": "678f6d9b",
   "metadata": {},
   "source": [
    "So we can use the existing chain points $x_i$ sampled under $p=q$ and  multiply each data point $x_i$ with the \"importance weight\" $L_2(x_i)$, and can thus obtain estimators of integrals with the combined posterior $p_{\\rm comb}$!"
   ]
  },
  {
   "cell_type": "markdown",
   "id": "825765c7",
   "metadata": {},
   "source": [
    "Let's test this."
   ]
  },
  {
   "cell_type": "code",
   "execution_count": 1,
   "id": "d23712d6",
   "metadata": {},
   "outputs": [],
   "source": [
    "%matplotlib inline\n",
    "\n",
    "import matplotlib.pylab as plt\n",
    "import numpy as np\n",
    "import emcee"
   ]
  },
  {
   "cell_type": "markdown",
   "id": "02225b65-2c7d-4fc3-a752-ff8159be3520",
   "metadata": {},
   "source": [
    "First, we sample a 1-D distribution with emcee to see whether this simple case works."
   ]
  },
  {
   "cell_type": "code",
   "execution_count": 2,
   "id": "26860f9e",
   "metadata": {},
   "outputs": [],
   "source": [
    "# Define simple log of a 1D normal distribution with mean μ and width σ\n",
    "def log_prob(x, μ, σ):\n",
    "    diff = x - μ\n",
    "    return -0.5 * (diff / σ)**2"
   ]
  },
  {
   "cell_type": "code",
   "execution_count": 3,
   "id": "4e7a619b",
   "metadata": {},
   "outputs": [],
   "source": [
    "# Input values\n",
    "μ = 0\n",
    "σ = 3"
   ]
  },
  {
   "cell_type": "code",
   "execution_count": 4,
   "id": "45f3f7d9",
   "metadata": {},
   "outputs": [],
   "source": [
    "# Set x array for plotting\n",
    "n = 5\n",
    "x = np.linspace(-σ*n, σ*n, 1000)"
   ]
  },
  {
   "cell_type": "code",
   "execution_count": 5,
   "id": "5da74549",
   "metadata": {},
   "outputs": [],
   "source": [
    "# Set up MCMC\n",
    "ndim = 1\n",
    "nwalkers = 5\n",
    "\n",
    "# Random starting points\n",
    "p0 = np.random.rand(nwalkers, ndim)"
   ]
  },
  {
   "cell_type": "code",
   "execution_count": 6,
   "id": "4dcffc21-a30c-48d5-b014-db396b6a900f",
   "metadata": {},
   "outputs": [],
   "source": [
    "# Initialise emcee samples\n",
    "sampler = emcee.EnsembleSampler(nwalkers, ndim, log_prob, args=[μ, σ])\n",
    "n_burn = 100\n",
    "n_chain = 5000"
   ]
  },
  {
   "cell_type": "code",
   "execution_count": 7,
   "id": "37e1b0a8-ae4d-4e0b-a768-e896f7f27c64",
   "metadata": {},
   "outputs": [],
   "source": [
    "# Run burn-in phase and remove points from chain\n",
    "state = sampler.run_mcmc(p0, n_burn)\n",
    "sampler.reset()"
   ]
  },
  {
   "cell_type": "code",
   "execution_count": 8,
   "id": "6803b569-df99-42da-a7ec-b554ecf75453",
   "metadata": {},
   "outputs": [],
   "source": [
    "# Run rest of the chain\n",
    "sampler.run_mcmc(state, n_chain);"
   ]
  },
  {
   "cell_type": "code",
   "execution_count": 10,
   "id": "15bbb805",
   "metadata": {},
   "outputs": [
    {
     "data": {
      "image/png": "[encoded data removed]",
      "text/plain": [
       "<Figure size 432x288 with 1 Axes>"
      ]
     },
     "metadata": {
      "needs_background": "light"
     },
     "output_type": "display_data"
    }
   ],
   "source": [
    "# Get pdf = exponential of log distribution\n",
    "# Use input values for mean and scale\n",
    "pdf = np.exp(log_prob(x, μ, σ))\n",
    "\n",
    "# Normalise to unit area (because with MCMC it's tricky anyway to estimate the normalisation)\n",
    "pdf = pdf / sum(pdf) / (x[1] - x[0])\n",
    "\n",
    "# Plot\n",
    "plt.plot(x, pdf, label='anaytical')\n",
    "\n",
    "# Get chain points\n",
    "samples = sampler.get_chain(flat=True)\n",
    "\n",
    "# Plot estimated pdf which is proprtional to chain points density\n",
    "plt.hist(samples[:, 0], 100, histtype=\"step\", density=True, label='samples')\n",
    "plt.legend()\n",
    "plt.xlabel('$x$')\n",
    "_ = plt.ylabel('probability')"
   ]
  },
  {
   "cell_type": "markdown",
   "id": "24eac54e-1c09-4c09-9e56-7c8d4f8d572c",
   "metadata": {},
   "source": [
    "Now we introduce a second non-normal distribution, and compare sampling under the combined\n",
    "pdf versus the importance-sampling trick."
   ]
  },
  {
   "cell_type": "code",
   "execution_count": 11,
   "id": "c8a39416",
   "metadata": {},
   "outputs": [],
   "source": [
    "# Add another distribution.\n",
    "# Set input  values\n",
    "μ2 = 3\n",
    "σ2 = 2"
   ]
  },
  {
   "cell_type": "code",
   "execution_count": 12,
   "id": "0f0126ec-956d-4075-834f-7829ddf362d0",
   "metadata": {},
   "outputs": [],
   "source": [
    "# Define second log pdf, this time not a normal distribution\n",
    "def log_prob2(x, μ, σ):\n",
    "    diff = x - μ\n",
    "    return -0.5 * np.abs(diff/ σ)"
   ]
  },
  {
   "cell_type": "code",
   "execution_count": 13,
   "id": "58907336-05d6-45d8-acf4-9c81db1087ef",
   "metadata": {},
   "outputs": [],
   "source": [
    "# Combined log pdf = sum of individual log pdf's\n",
    "def log_prob_comb(x, μ, σ, μ2, σ2):\n",
    "    return log_prob(x, μ, σ) + log_prob2(x, μ2, σ2)"
   ]
  },
  {
   "cell_type": "code",
   "execution_count": 14,
   "id": "dcc9999e",
   "metadata": {},
   "outputs": [],
   "source": [
    "# Set up MCMC to sample under combined pdf\n",
    "sampler_comb = emcee.EnsembleSampler(nwalkers, ndim, log_prob_comb, args=[μ, σ, μ2, σ2])"
   ]
  },
  {
   "cell_type": "code",
   "execution_count": 15,
   "id": "60d5ba22-66af-4c3a-bb18-4556722030fb",
   "metadata": {},
   "outputs": [],
   "source": [
    "# Burn-in phase\n",
    "state_comb = sampler_comb.run_mcmc(p0, n_burn)\n",
    "sampler_comb.reset()"
   ]
  },
  {
   "cell_type": "code",
   "execution_count": 16,
   "id": "7988743f-4707-4fe1-b1ed-7e7e35e01a2c",
   "metadata": {},
   "outputs": [],
   "source": [
    "# Run MCMC\n",
    "sampler_comb.run_mcmc(state, n_chain);"
   ]
  },
  {
   "cell_type": "code",
   "execution_count": 17,
   "id": "8cd91081-3c99-4fa0-be4c-e4fbc5cb3c70",
   "metadata": {},
   "outputs": [
    {
     "data": {
      "image/png": "[encoded data removed]",
      "text/plain": [
       "<Figure size 432x288 with 1 Axes>"
      ]
     },
     "metadata": {
      "needs_background": "light"
     },
     "output_type": "display_data"
    }
   ],
   "source": [
    "# Get combined pdf with input values\n",
    "pdf_comb = np.exp(log_prob_comb(x, μ, σ, μ2, σ2))\n",
    "\n",
    "# Normalise to unit area\n",
    "pdf_comb = pdf_comb / sum(pdf_comb) / (x[1] - x[0])\n",
    "\n",
    "_ = plt.plot(x, pdf_comb, label='analytical')\n",
    "\n",
    "# Get sample points under combined pdf and plot\n",
    "samples_comb = sampler_comb.get_chain(flat=True)\n",
    "_ = plt.hist(\n",
    "    samples_comb[:, 0],\n",
    "    100,\n",
    "    histtype=\"step\",\n",
    "    density=True,\n",
    "    label='combined pdf sampled'\n",
    ")\n",
    "\n",
    "# Importance sampling: Get weights = pdf2 evaluated at sample points\n",
    "weights = np.exp(log_prob2(samples[:, 0], μ2, σ2))\n",
    "\n",
    "# Plot importance-sampled points by adding those weights to histogram\n",
    "plt.hist(\n",
    "    samples[:, 0],\n",
    "    100,\n",
    "    histtype=\"step\",\n",
    "    density=True,\n",
    "    weights=weights,\n",
    "    label='importance sampled'\n",
    ")\n",
    "plt.legend()\n",
    "#plt.ylim()\n",
    "plt.xlabel('$x$')\n",
    "_ = plt.ylabel('probability')"
   ]
  },
  {
   "cell_type": "markdown",
   "id": "b0641e72-81e2-4b38-b4f0-c72d2d05d6e2",
   "metadata": {},
   "source": [
    "Both chain do a good job to estimate the overall density!"
   ]
  },
  {
   "cell_type": "code",
   "execution_count": null,
   "id": "e5bdcea1-ef02-4c72-8578-54ba8fce569a",
   "metadata": {},
   "outputs": [],
   "source": []
  },
  {
   "cell_type": "code",
   "execution_count": null,
   "id": "ebbe4318-7548-4472-81f6-c93d4d57f13e",
   "metadata": {},
   "outputs": [],
   "source": []
  }
 ],
 "metadata": {
  "kernelspec": {
   "display_name": "Python 3 (ipykernel)",
   "language": "python",
   "name": "python3"
  },
  "language_info": {
   "codemirror_mode": {
    "name": "ipython",
    "version": 3
   },
   "file_extension": ".py",
   "mimetype": "text/x-python",
   "name": "python",
   "nbconvert_exporter": "python",
   "pygments_lexer": "ipython3",
   "version": "3.9.7"
  }
 },
 "nbformat": 4,
 "nbformat_minor": 5
}
